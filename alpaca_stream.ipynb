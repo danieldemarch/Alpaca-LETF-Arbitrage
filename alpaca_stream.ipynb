{
  "nbformat": 4,
  "nbformat_minor": 0,
  "metadata": {
    "colab": {
      "name": "alpaca_stream.ipynb",
      "provenance": [],
      "collapsed_sections": []
    },
    "kernelspec": {
      "name": "python3",
      "display_name": "Python 3"
    },
    "language_info": {
      "name": "python"
    }
  },
  "cells": [
    {
      "cell_type": "code",
      "execution_count": null,
      "metadata": {
        "colab": {
          "base_uri": "https://localhost:8080/"
        },
        "id": "sgxva76wCaBk",
        "outputId": "7bb4abc3-0bf0-4b3a-eb34-ebaafb2198fe"
      },
      "outputs": [
        {
          "output_type": "stream",
          "name": "stdout",
          "text": [
            "Looking in indexes: https://pypi.org/simple, https://us-python.pkg.dev/colab-wheels/public/simple/\n",
            "Requirement already satisfied: pandas==1.1.5 in /usr/local/lib/python3.7/dist-packages (1.1.5)\n",
            "Requirement already satisfied: numpy==1.19.4 in /usr/local/lib/python3.7/dist-packages (1.19.4)\n",
            "Requirement already satisfied: scipy==1.5.4 in /usr/local/lib/python3.7/dist-packages (1.5.4)\n",
            "Requirement already satisfied: pytz>=2017.2 in /usr/local/lib/python3.7/dist-packages (from pandas==1.1.5) (2022.1)\n",
            "Requirement already satisfied: python-dateutil>=2.7.3 in /usr/local/lib/python3.7/dist-packages (from pandas==1.1.5) (2.8.2)\n",
            "Requirement already satisfied: six>=1.5 in /usr/local/lib/python3.7/dist-packages (from python-dateutil>=2.7.3->pandas==1.1.5) (1.15.0)\n"
          ]
        }
      ],
      "source": [
        "!pip install pandas==1.1.5 numpy==1.19.4 scipy==1.5.4\n"
      ]
    },
    {
      "cell_type": "code",
      "source": [
        "!pip install websockets>=9.0\n"
      ],
      "metadata": {
        "id": "YIKsp3XLCciW"
      },
      "execution_count": null,
      "outputs": []
    },
    {
      "cell_type": "code",
      "source": [
        "!pip install alpaca-trade-api\n"
      ],
      "metadata": {
        "colab": {
          "base_uri": "https://localhost:8080/"
        },
        "id": "wPwHNfRRCgXr",
        "outputId": "0a491b3c-51b8-4870-cf43-1e052b4bbbc8"
      },
      "execution_count": null,
      "outputs": [
        {
          "output_type": "stream",
          "name": "stdout",
          "text": [
            "Looking in indexes: https://pypi.org/simple, https://us-python.pkg.dev/colab-wheels/public/simple/\n",
            "Requirement already satisfied: alpaca-trade-api in /usr/local/lib/python3.7/dist-packages (2.2.0)\n",
            "Requirement already satisfied: msgpack==1.0.3 in /usr/local/lib/python3.7/dist-packages (from alpaca-trade-api) (1.0.3)\n",
            "Requirement already satisfied: requests<3,>2 in /usr/local/lib/python3.7/dist-packages (from alpaca-trade-api) (2.28.0)\n",
            "Requirement already satisfied: numpy>=1.11.1 in /usr/local/lib/python3.7/dist-packages (from alpaca-trade-api) (1.19.4)\n",
            "Requirement already satisfied: PyYAML==6.0 in /usr/local/lib/python3.7/dist-packages (from alpaca-trade-api) (6.0)\n",
            "Requirement already satisfied: aiohttp==3.8.1 in /usr/local/lib/python3.7/dist-packages (from alpaca-trade-api) (3.8.1)\n",
            "Requirement already satisfied: urllib3<2,>1.24 in /usr/local/lib/python3.7/dist-packages (from alpaca-trade-api) (1.24.3)\n",
            "Requirement already satisfied: pandas>=0.18.1 in /usr/local/lib/python3.7/dist-packages (from alpaca-trade-api) (1.1.5)\n",
            "Requirement already satisfied: deprecation==2.1.0 in /usr/local/lib/python3.7/dist-packages (from alpaca-trade-api) (2.1.0)\n",
            "Requirement already satisfied: websocket-client<2,>=0.56.0 in /usr/local/lib/python3.7/dist-packages (from alpaca-trade-api) (1.3.2)\n",
            "Requirement already satisfied: websockets<11,>=9.0 in /usr/local/lib/python3.7/dist-packages (from alpaca-trade-api) (10.3)\n",
            "Requirement already satisfied: asynctest==0.13.0 in /usr/local/lib/python3.7/dist-packages (from aiohttp==3.8.1->alpaca-trade-api) (0.13.0)\n",
            "Requirement already satisfied: aiosignal>=1.1.2 in /usr/local/lib/python3.7/dist-packages (from aiohttp==3.8.1->alpaca-trade-api) (1.2.0)\n",
            "Requirement already satisfied: multidict<7.0,>=4.5 in /usr/local/lib/python3.7/dist-packages (from aiohttp==3.8.1->alpaca-trade-api) (6.0.2)\n",
            "Requirement already satisfied: async-timeout<5.0,>=4.0.0a3 in /usr/local/lib/python3.7/dist-packages (from aiohttp==3.8.1->alpaca-trade-api) (4.0.2)\n",
            "Requirement already satisfied: attrs>=17.3.0 in /usr/local/lib/python3.7/dist-packages (from aiohttp==3.8.1->alpaca-trade-api) (21.4.0)\n",
            "Requirement already satisfied: typing-extensions>=3.7.4 in /usr/local/lib/python3.7/dist-packages (from aiohttp==3.8.1->alpaca-trade-api) (4.1.1)\n",
            "Requirement already satisfied: charset-normalizer<3.0,>=2.0 in /usr/local/lib/python3.7/dist-packages (from aiohttp==3.8.1->alpaca-trade-api) (2.0.12)\n",
            "Requirement already satisfied: frozenlist>=1.1.1 in /usr/local/lib/python3.7/dist-packages (from aiohttp==3.8.1->alpaca-trade-api) (1.3.0)\n",
            "Requirement already satisfied: yarl<2.0,>=1.0 in /usr/local/lib/python3.7/dist-packages (from aiohttp==3.8.1->alpaca-trade-api) (1.7.2)\n",
            "Requirement already satisfied: packaging in /usr/local/lib/python3.7/dist-packages (from deprecation==2.1.0->alpaca-trade-api) (21.3)\n",
            "Requirement already satisfied: python-dateutil>=2.7.3 in /usr/local/lib/python3.7/dist-packages (from pandas>=0.18.1->alpaca-trade-api) (2.8.2)\n",
            "Requirement already satisfied: pytz>=2017.2 in /usr/local/lib/python3.7/dist-packages (from pandas>=0.18.1->alpaca-trade-api) (2022.1)\n",
            "Requirement already satisfied: six>=1.5 in /usr/local/lib/python3.7/dist-packages (from python-dateutil>=2.7.3->pandas>=0.18.1->alpaca-trade-api) (1.15.0)\n",
            "Requirement already satisfied: certifi>=2017.4.17 in /usr/local/lib/python3.7/dist-packages (from requests<3,>2->alpaca-trade-api) (2022.6.15)\n",
            "Requirement already satisfied: idna<4,>=2.5 in /usr/local/lib/python3.7/dist-packages (from requests<3,>2->alpaca-trade-api) (2.10)\n",
            "Requirement already satisfied: pyparsing!=3.0.5,>=2.0.2 in /usr/local/lib/python3.7/dist-packages (from packaging->deprecation==2.1.0->alpaca-trade-api) (3.0.9)\n"
          ]
        }
      ]
    },
    {
      "cell_type": "code",
      "source": [
        "!pip install yfinance"
      ],
      "metadata": {
        "colab": {
          "base_uri": "https://localhost:8080/"
        },
        "id": "aet7r_uaDdiR",
        "outputId": "e6c1f0cd-8def-429e-e474-5e33a84a839d"
      },
      "execution_count": null,
      "outputs": [
        {
          "output_type": "stream",
          "name": "stdout",
          "text": [
            "Looking in indexes: https://pypi.org/simple, https://us-python.pkg.dev/colab-wheels/public/simple/\n",
            "Requirement already satisfied: yfinance in /usr/local/lib/python3.7/dist-packages (0.1.72)\n",
            "Requirement already satisfied: multitasking>=0.0.7 in /usr/local/lib/python3.7/dist-packages (from yfinance) (0.0.10)\n",
            "Requirement already satisfied: lxml>=4.5.1 in /usr/local/lib/python3.7/dist-packages (from yfinance) (4.9.0)\n",
            "Requirement already satisfied: requests>=2.26 in /usr/local/lib/python3.7/dist-packages (from yfinance) (2.28.0)\n",
            "Requirement already satisfied: numpy>=1.15 in /usr/local/lib/python3.7/dist-packages (from yfinance) (1.19.4)\n",
            "Requirement already satisfied: pandas>=0.24.0 in /usr/local/lib/python3.7/dist-packages (from yfinance) (1.1.5)\n",
            "Requirement already satisfied: pytz>=2017.2 in /usr/local/lib/python3.7/dist-packages (from pandas>=0.24.0->yfinance) (2022.1)\n",
            "Requirement already satisfied: python-dateutil>=2.7.3 in /usr/local/lib/python3.7/dist-packages (from pandas>=0.24.0->yfinance) (2.8.2)\n",
            "Requirement already satisfied: six>=1.5 in /usr/local/lib/python3.7/dist-packages (from python-dateutil>=2.7.3->pandas>=0.24.0->yfinance) (1.15.0)\n",
            "Requirement already satisfied: idna<4,>=2.5 in /usr/local/lib/python3.7/dist-packages (from requests>=2.26->yfinance) (2.10)\n",
            "Requirement already satisfied: urllib3<1.27,>=1.21.1 in /usr/local/lib/python3.7/dist-packages (from requests>=2.26->yfinance) (1.24.3)\n",
            "Requirement already satisfied: certifi>=2017.4.17 in /usr/local/lib/python3.7/dist-packages (from requests>=2.26->yfinance) (2022.6.15)\n",
            "Requirement already satisfied: charset-normalizer~=2.0.0 in /usr/local/lib/python3.7/dist-packages (from requests>=2.26->yfinance) (2.0.12)\n"
          ]
        }
      ]
    },
    {
      "cell_type": "code",
      "source": [
        "!pip3 install nest_asyncio"
      ],
      "metadata": {
        "colab": {
          "base_uri": "https://localhost:8080/"
        },
        "id": "1u5kjC2r6i0S",
        "outputId": "62a9fd52-bf06-489e-b42a-729549ad57fc"
      },
      "execution_count": null,
      "outputs": [
        {
          "output_type": "stream",
          "name": "stdout",
          "text": [
            "Looking in indexes: https://pypi.org/simple, https://us-python.pkg.dev/colab-wheels/public/simple/\n",
            "Requirement already satisfied: nest_asyncio in /usr/local/lib/python3.7/dist-packages (1.5.5)\n"
          ]
        }
      ]
    },
    {
      "cell_type": "code",
      "source": [
        "import alpaca_trade_api as tradeapi\n",
        "import pandas as pd\n",
        "import yfinance as yf\n",
        "# API Info for fetching data, portfolio, etc. from Alpaca\n",
        "BASE_URL = \"https://paper-api.alpaca.markets\"\n",
        "ALPACA_API_KEY = \"PKZBF19BMWCUWI0SA9E3\"\n",
        "ALPACA_SECRET_KEY = \"uX2AdG5eqYzu80wf5PsjbrbvFoKR9NOx2iuDQHfP\"\n",
        "\n",
        "# Instantiate REST API Connection\n",
        "api = tradeapi.REST(key_id=ALPACA_API_KEY, secret_key=ALPACA_SECRET_KEY, \n",
        "                    base_url=BASE_URL, api_version='v2')\n",
        "import logging\n",
        "import threading\n",
        "import asyncio\n",
        "import time\n",
        "from concurrent.futures import ThreadPoolExecutor\n",
        "from alpaca_trade_api.stream import Stream\n",
        "from alpaca_trade_api.common import URL\n",
        "import alpaca_trade_api as tradeapi\n",
        "from alpaca_trade_api.stream import Stream\n",
        "import datetime\n",
        "import yfinance as yf\n",
        "\n",
        "import nest_asyncio\n",
        "nest_asyncio.apply()"
      ],
      "metadata": {
        "id": "mMCXBzecDH5u"
      },
      "execution_count": null,
      "outputs": []
    },
    {
      "cell_type": "code",
      "source": [
        "#HEAVY WORK IN PROGRESS"
      ],
      "metadata": {
        "id": "S0dxuHu4cSv3"
      },
      "execution_count": null,
      "outputs": []
    },
    {
      "cell_type": "code",
      "source": [
        "#This is a paper trade arbitrage bot that executes a simple strategy based on the relative returns of a leveraged ticker (e.g. UPRO) vs. an unleveraged equivalent (e.g. SPY)\n",
        "\n",
        "#blagh = divergence from theoretical value"
      ],
      "metadata": {
        "id": "lXp5XcV6cS4u"
      },
      "execution_count": null,
      "outputs": []
    },
    {
      "cell_type": "code",
      "source": [
        "# Utility to truncate a float value to a certain number of decimal places.\n",
        "# We'll use this to see if a \"penny level\" was crossed when we compare prices.\n",
        "# This is necessary because a price can change by 1/100th of a penny, but we\n",
        "# can only trade at full-penny increments.\n",
        "def truncate(val, decimal_places):\n",
        "    return int(val * 10**decimal_places) / 10**decimal_places\n",
        "\n",
        "\n",
        "# The MartingaleTrader bets that streaks of increases or decreases in a stock's\n",
        "# price are likely to break, and increases its bet each time it is wrong.\n",
        "class LEFTTRADER(object):\n",
        "    def __init__(self):\n",
        "        # API authentication keys can be taken from the Alpaca dashboard.\n",
        "        # https://app.alpaca.markets/paper/dashboard/overview\n",
        "        self.key_id = 'PKZBF19BMWCUWI0SA9E3'\n",
        "        self.secret_key = 'uX2AdG5eqYzu80wf5PsjbrbvFoKR9NOx2iuDQHfP'\n",
        "        self.base_url = \"https://paper-api.alpaca.markets\"\n",
        "        self.data_url = \"https://paper-api.alpaca.markets\"\n",
        "\n",
        "        # The symbol we will be trading\n",
        "        self.tick_symbol = 'SPY'\n",
        "        self.levtick_symbol = 'UPRO'\n",
        "\n",
        "        #the opening price of each symbol\n",
        "        SPYTICK = yf.Ticker(\"SPY\")\n",
        "        UPROTICK = yf.Ticker(\"UPRO\")\n",
        "        self.tick_open = round(SPYTICK.history(period=\"1d\")['Open'].values[0], 2)\n",
        "        self.levtick_open = round(UPROTICK.history(period=\"1d\")['Open'].values[0], 2)\n",
        "\n",
        "        #the last price of each symbol\n",
        "        self.last_tick_val = 0\n",
        "        self.last_levtick_val = 0\n",
        "        \n",
        "\n",
        "        #the running mean of each symbol, as well as the amount of info we've collected\n",
        "        self.tick_runmean = self.tick_open #need a running mean\n",
        "        self.levtick_runmean = self.levtick_open\n",
        "        self.tick_numticks = 1 #counts number of total ticks\n",
        "        self.levtick_numticks = 1\n",
        "        self.tick_runsum = self.tick_open\n",
        "        self.levtick_runsum = self.levtick_open\n",
        "        self.tick_openpercent = 1\n",
        "        self.levtick_openpercent = 1\n",
        "        self.blagh = 1 #tracks divergence between the two instruments\n",
        "        self.order_blagh = 1\n",
        "\n",
        "        # How many seconds we will wait in between updating the streak values\n",
        "        self.tick_size = 1\n",
        "\n",
        "        # The percentage of our buying power that we will allocate to a new\n",
        "        # position after a streak reset\n",
        "        self.base_bet = 10\n",
        "\n",
        "        # These variables track the information about the current streak\n",
        "        self.streak_count = 0\n",
        "        self.streak_start = 0\n",
        "        self.streak_increasing = True\n",
        "\n",
        "        # When this variable is not None, we have an order open\n",
        "        self.current_order = None\n",
        "\n",
        "        # The closing price of the last aggregate we saw\n",
        "        self.last_price = 0\n",
        "\n",
        "        # used to use tick data as second aggs data (mot every tick, but sec)\n",
        "        self.last_trade_time = datetime.datetime.utcnow()\n",
        "\n",
        "        # The connection to the Alpaca API\n",
        "        self.api = tradeapi.REST(\n",
        "            self.key_id,\n",
        "            self.secret_key,\n",
        "            self.base_url\n",
        "        )\n",
        "\n",
        "        # Cancel any open orders so they don't interfere with this script\n",
        "        self.api.cancel_all_orders()\n",
        "\n",
        "        try:\n",
        "            self.position = int(self.api.get_position(self.symbol).qty)\n",
        "        except:\n",
        "            # No position exists\n",
        "            self.position = 0\n",
        "\n",
        "        # Figure out how much money we have to work with, accounting for margin\n",
        "        account_info = self.api.get_account()\n",
        "        print(\"account infor\", account_info)\n",
        "        self.equity = abs(float(account_info.long_market_value)) + abs(float(account_info.short_market_value))\n",
        "        self.margin_multiplier = float(account_info.multiplier)\n",
        "        total_buying_power = self.margin_multiplier * self.equity\n",
        "        print(\"current invested\", self.equity )\n",
        "\n",
        "        print(\"liquidating just in case\")\n",
        "        self.api.close_all_positions()\n",
        "        print(\"new equity\")\n",
        "        self.equity = abs(float(account_info.long_market_value)) + abs(float(account_info.short_market_value))\n",
        "        print(self.equity)\n",
        "\n",
        "\n",
        "    def send_order(self, sym_quant, lev_sym_quant):\n",
        "          print(\"order sent for\", sym_quant, self.tick_symbol, lev_sym_quant, self.levtick_symbol)\n",
        "          # We don't want to have two orders open at once\n",
        "          self.api.cancel_all_orders()\n",
        "          print(\"canceled open orders\")\n",
        "\n",
        "          #try order for unleveraged ticker\n",
        "          try:\n",
        "              print(\"made order for\", self.tick_symbol)\n",
        "              if(sym_quant > 0):\n",
        "                self.api.submit_order(\n",
        "                            self.tick_symbol, \n",
        "                            int(sym_quant), \n",
        "                            'buy',\n",
        "                            'limit', \n",
        "                            'fok', \n",
        "                            round(self.last_tick_val, 2)\n",
        "                        )\n",
        "              else:\n",
        "                self.api.submit_order(\n",
        "                            self.tick_symbol, \n",
        "                            int(-1*sym_quant), \n",
        "                            'sell',\n",
        "                            'limit', \n",
        "                            'fok', \n",
        "                            round(self.last_tick_val, 2)\n",
        "                        )\n",
        "\n",
        "          except Exception as e:\n",
        "              print(e)\n",
        "              print(\"trade error, liquidating\")\n",
        "              self.api.close_all_positions()\n",
        "\n",
        "          #try order for leveraged ticker\n",
        "          try:\n",
        "\n",
        "            print(\"made order for\", self.levtick_symbol)\n",
        "            if(lev_sym_quant > 0):\n",
        "\n",
        "              self.api.submit_order(\n",
        "                          self.levtick_symbol, \n",
        "                          int(lev_sym_quant), \n",
        "                          'buy',\n",
        "                          'limit', \n",
        "                          'fok', \n",
        "                          round(self.last_levtick_val, 2)\n",
        "                      )\n",
        "            else:\n",
        "\n",
        "              self.api.submit_order(\n",
        "                          self.levtick_symbol, \n",
        "                          int(-1*lev_sym_quant), \n",
        "                          'sell',\n",
        "                          'limit', \n",
        "                          'fok', \n",
        "                          round(self.last_levtick_val, 2)\n",
        "                      )\n",
        "          except Exception as e:\n",
        "              print(e)\n",
        "              print(\"trade error, liquidating\")\n",
        "              self.api.close_all_positions()\n",
        "          longval = abs(float(self.api.get_account().long_market_value))\n",
        "          shortval = abs(float(self.api.get_account().short_market_value))\n",
        "          #ensure both arms of the trade went through\n",
        "          if(longval == 0 or shortval == 0):\n",
        "              print(\"only one arm executed, liquidating\", longval, shortval)\n",
        "              self.api.close_all_positions()\n",
        "\n",
        "          self.equity = abs(float(self.api.get_account().long_market_value)) + abs(float(self.api.get_account().short_market_value))\n",
        "\n",
        "    def process_current_tick(self, blagh):\n",
        "          # Update  info\n",
        "          print(\"entered tick processing logic with blagh\", blagh)\n",
        "          if(self.equity > 0):\n",
        "            #check if we need to sell anything and what current value is\n",
        "\n",
        "            print(\"entered sell check processing\")\n",
        "            print(\"current long\", self.api.get_account().long_market_value, \"current short\", self.api.get_account().short_market_value)\n",
        "            self.equity = abs(float(self.api.get_account().long_market_value)) + abs(float(self.api.get_account().short_market_value))\n",
        "            if((self.order_blagh > 0 and blagh < 0) or (self.order_blagh < 0 and blagh > 0)):\n",
        "              print(\"closed out a trade\")\n",
        "              print(\"trade value\", self.equity)\n",
        "              self.api.close_all_positions()\n",
        "              self.equity = abs(float(self.api.get_account().long_market_value)) + abs(float(self.api.get_account().short_market_value))\n",
        "              print(\"closed out to value\", self.equity)\n",
        "          if self.equity == 0:\n",
        "\n",
        "            #buy depending on divergence\n",
        "            print(\"entered buy check processing\")\n",
        "            if(self.blagh > 0 and self.tick_numticks > 1 and self.levtick_numticks > 1):\n",
        "              lev_sym_quant = 0\n",
        "              sym_quant = 3\n",
        "              lev_price = self.last_levtick_val\n",
        "              sym_price = self.last_tick_val\n",
        "\n",
        "              lev_sym_quant = sym_quant*sym_price/3\n",
        "              lev_sym_quant = lev_sym_quant/lev_price\n",
        "              lev_sym_quant = -1*int(lev_sym_quant)\n",
        "\n",
        "              self.order_blagh = blagh\n",
        "\n",
        "              print(\"blagh\", blagh, \"sent order quantity\", sym_quant, lev_sym_quant, \"with value\", sym_quant*sym_price + lev_sym_quant*lev_price)\n",
        "\n",
        "              self.send_order(sym_quant, lev_sym_quant)\n",
        "\n",
        "            elif(self.blagh < 0):\n",
        "\n",
        "              #sell depending on divergence\n",
        "              lev_sym_quant = 0\n",
        "              sym_quant = -3\n",
        "              lev_price = self.last_levtick_val\n",
        "              sym_price = self.last_tick_val\n",
        "\n",
        "              lev_sym_quant = sym_quant*sym_price/3\n",
        "              lev_sym_quant = lev_sym_quant/lev_price\n",
        "              lev_sym_quant = -1*int(lev_sym_quant)\n",
        "\n",
        "              self.order_blagh = blagh\n",
        "\n",
        "              print(\"blagh\", blagh, \"sent order quantity\", sym_quant, lev_sym_quant, \"with value\", sym_quant*sym_price + lev_sym_quant*lev_price)\n",
        "\n",
        "              self.send_order(sym_quant, lev_sym_quant)\n",
        "\n",
        "\n",
        "    def start_trading(self):\n",
        "\n",
        "        # Listen for second aggregates and perform trading logic\n",
        "\n",
        "           \n",
        "        async def handle_tick_bar(bar):\n",
        "            print(\"bar\", bar)\n",
        "            self.tick_numticks +=1\n",
        "            print(\"num ticks\", self.tick_numticks)\n",
        "\n",
        "            if(self.tick_numticks) % self.tick_size == 0:\n",
        "                # It's time to update\n",
        "\n",
        "                self.last_tick_val = bar.close #keep track of the last price of the instrument\n",
        "\n",
        "                self.tick_runsum += bar.close #update runsum\n",
        "                self.tick_runmean = self.tick_runsum / self.tick_numticks #update runmean\n",
        "                self.tick_openpercent = 3*( (bar.close / self.tick_open)-1) + 1 #keep track of the \"theoretical\" 3x leveraged returns\n",
        "                self.blagh = self.levtick_openpercent / self.tick_openpercent #calculate divergence\n",
        "                print(\"grabbed new bar for \", self.tick_symbol)\n",
        "                print(\"bar val\", self.last_tick_val, \"runmean\", self.tick_runmean, \"percent change from open\", self.tick_openpercent, \"blagh\", self.blagh)\n",
        "                self.process_current_tick(self.blagh) #now we want to check if we have no open positions and act accordingly\n",
        "\n",
        "        async def handle_levtick_bar(bar):\n",
        "            print(\"bar\", bar)\n",
        "            self.levtick_numticks +=1\n",
        "            print(\"num levticks\", self.levtick_numticks)\n",
        "\n",
        "            if(self.levtick_numticks) % self.tick_size == 0:\n",
        "                # It's time to update\n",
        "\n",
        "                self.last_levtick_val = bar.close #keep track of the last price of the instrument\n",
        "\n",
        "                self.levtick_runsum += bar.close #update runsum\n",
        "                self.levtick_runmean = self.levtick_runsum / self.levtick_numticks #update runmean\n",
        "                self.levtick_openpercent = (bar.close / self.levtick_open) #keep track of the \"theoretical\" 3x leveraged returns\n",
        "                self.blagh = self.levtick_openpercent / self.tick_openpercent #calculate divergence\n",
        "                print(\"grabbed new bar for \", self.levtick_symbol)\n",
        "                print(\"bar val\", self.last_levtick_val, \"runmean\", self.levtick_runmean, \"percent change from open\", self.levtick_openpercent, \"blagh\", self.blagh)\n",
        "                self.process_current_tick(self.blagh) #now we want to check if we have no open positions and act accordingly\n",
        "        \n",
        "\n",
        "        \n",
        "        \n",
        "\n",
        "        \n",
        "\n",
        "\n",
        "\n",
        "\n",
        "        conn = Stream(\n",
        "        self.key_id,\n",
        "        self.secret_key,\n",
        "        base_url=self.base_url,\n",
        "        data_feed='iex')  # <- replace to SIP if you have PRO subscription\n",
        "\n",
        "        print(\"connection created\")\n",
        "\n",
        "        conn.subscribe_bars(handle_tick_bar, self.tick_symbol)\n",
        "        conn.subscribe_bars(handle_levtick_bar, self.levtick_symbol)\n",
        "        print(\"bars subscribed\")\n",
        "\n",
        "        conn.run()\n",
        "\n",
        "    \n",
        "\n",
        "\n",
        "        "
      ],
      "metadata": {
        "id": "j9znGuBlNGGg"
      },
      "execution_count": null,
      "outputs": []
    },
    {
      "cell_type": "code",
      "source": [
        "trader = LEFTTRADER()\n",
        "print(\"instantiated trader\")\n",
        "\n"
      ],
      "metadata": {
        "id": "-XkloFPsHMg_",
        "colab": {
          "base_uri": "https://localhost:8080/"
        },
        "outputId": "a8d04277-8ed8-45cd-91dc-c8c477b43507"
      },
      "execution_count": null,
      "outputs": [
        {
          "output_type": "stream",
          "name": "stdout",
          "text": [
            "account infor Account({   'account_blocked': False,\n",
            "    'account_number': 'PA3NKZ9F2DLO',\n",
            "    'accrued_fees': '0',\n",
            "    'buying_power': '199207.34',\n",
            "    'cash': '99603.67',\n",
            "    'created_at': '2021-10-04T18:21:29.569662Z',\n",
            "    'crypto_status': 'ACTIVE',\n",
            "    'currency': 'USD',\n",
            "    'daytrade_count': 37,\n",
            "    'daytrading_buying_power': '0',\n",
            "    'equity': '99603.67',\n",
            "    'id': '8b3bd92d-bf65-4471-866a-33a49387aad0',\n",
            "    'initial_margin': '0',\n",
            "    'last_equity': '100000',\n",
            "    'last_maintenance_margin': '0',\n",
            "    'long_market_value': '0',\n",
            "    'maintenance_margin': '0',\n",
            "    'multiplier': '2',\n",
            "    'non_marginable_buying_power': '99603.67',\n",
            "    'pattern_day_trader': False,\n",
            "    'pending_transfer_in': '0',\n",
            "    'portfolio_value': '99603.67',\n",
            "    'regt_buying_power': '199207.34',\n",
            "    'short_market_value': '0',\n",
            "    'shorting_enabled': True,\n",
            "    'sma': '100000',\n",
            "    'status': 'ACTIVE',\n",
            "    'trade_suspended_by_user': False,\n",
            "    'trading_blocked': False,\n",
            "    'transfers_blocked': False})\n",
            "current invested 0.0\n",
            "liquidating just in case\n",
            "new equity\n",
            "0.0\n",
            "instantiated trader\n"
          ]
        }
      ]
    },
    {
      "cell_type": "code",
      "source": [
        "trader.__dict__"
      ],
      "metadata": {
        "colab": {
          "base_uri": "https://localhost:8080/"
        },
        "id": "C-VQ26ejGV0p",
        "outputId": "45076cea-b004-4a67-a650-34985099406d"
      },
      "execution_count": null,
      "outputs": [
        {
          "output_type": "execute_result",
          "data": {
            "text/plain": [
              "{'api': <alpaca_trade_api.rest.REST at 0x7f7c84c125d0>,\n",
              " 'base_bet': 10,\n",
              " 'base_url': 'https://paper-api.alpaca.markets',\n",
              " 'blagh': 1,\n",
              " 'current_order': None,\n",
              " 'data_url': 'https://paper-api.alpaca.markets',\n",
              " 'equity': 0.0,\n",
              " 'key_id': 'PKZBF19BMWCUWI0SA9E3',\n",
              " 'last_levtick_val': 0,\n",
              " 'last_price': 0,\n",
              " 'last_tick_val': 0,\n",
              " 'last_trade_time': datetime.datetime(2022, 6, 17, 19, 57, 3, 848871),\n",
              " 'levtick_numticks': 1,\n",
              " 'levtick_open': 32.0,\n",
              " 'levtick_openpercent': 1,\n",
              " 'levtick_runmean': 32.0,\n",
              " 'levtick_runsum': 32.0,\n",
              " 'levtick_symbol': 'UPRO',\n",
              " 'margin_multiplier': 2.0,\n",
              " 'order_blagh': 1,\n",
              " 'position': 0,\n",
              " 'secret_key': 'uX2AdG5eqYzu80wf5PsjbrbvFoKR9NOx2iuDQHfP',\n",
              " 'streak_count': 0,\n",
              " 'streak_increasing': True,\n",
              " 'streak_start': 0,\n",
              " 'tick_numticks': 1,\n",
              " 'tick_open': 365.51,\n",
              " 'tick_openpercent': 1,\n",
              " 'tick_runmean': 365.51,\n",
              " 'tick_runsum': 365.51,\n",
              " 'tick_size': 1,\n",
              " 'tick_symbol': 'SPY'}"
            ]
          },
          "metadata": {},
          "execution_count": 4
        }
      ]
    },
    {
      "cell_type": "code",
      "source": [
        "trader.start_trading()\n"
      ],
      "metadata": {
        "colab": {
          "base_uri": "https://localhost:8080/"
        },
        "id": "87PjYg2v63Z9",
        "outputId": "d8ac30f9-31a0-4f1f-ed56-d59e65b4781a"
      },
      "execution_count": null,
      "outputs": [
        {
          "output_type": "stream",
          "name": "stdout",
          "text": [
            "connection created\n",
            "bars subscribed\n",
            "bar Bar({   'close': 366.325,\n",
            "    'high': 366.8,\n",
            "    'low': 366.325,\n",
            "    'open': 366.8,\n",
            "    'symbol': 'SPY',\n",
            "    'timestamp': 1655495820000000000,\n",
            "    'trade_count': 320,\n",
            "    'volume': 52936,\n",
            "    'vwap': 366.498471})\n",
            "num ticks 2\n",
            "grabbed new bar for  SPY\n",
            "bar val 366.325 runmean 365.9175 percent change from open 1.0066892834669363 blagh 0.9933551657131989\n",
            "entered tick processing logic with blagh 0.9933551657131989\n",
            "entered buy check processing\n",
            "bar Bar({   'close': 366.11,\n",
            "    'high': 366.44,\n",
            "    'low': 366.11,\n",
            "    'open': 366.33,\n",
            "    'symbol': 'SPY',\n",
            "    'timestamp': 1655495880000000000,\n",
            "    'trade_count': 393,\n",
            "    'volume': 76650,\n",
            "    'vwap': 366.221671})\n",
            "num ticks 3\n",
            "grabbed new bar for  SPY\n",
            "bar val 366.11 runmean 365.98166666666674 percent change from open 1.0049246258652298 blagh 0.9950995072282265\n",
            "entered tick processing logic with blagh 0.9950995072282265\n",
            "entered buy check processing\n",
            "bar Bar({   'close': 365.81,\n",
            "    'high': 366.2,\n",
            "    'low': 365.78,\n",
            "    'open': 366.12,\n",
            "    'symbol': 'SPY',\n",
            "    'timestamp': 1655495940000000000,\n",
            "    'trade_count': 326,\n",
            "    'volume': 52062,\n",
            "    'vwap': 366.00306})\n",
            "num ticks 4\n",
            "grabbed new bar for  SPY\n",
            "bar val 365.81 runmean 365.93875 percent change from open 1.002462312932615 blagh 0.9975437351600664\n",
            "entered tick processing logic with blagh 0.9975437351600664\n",
            "entered buy check processing\n",
            "bar Bar({   'close': 32.16,\n",
            "    'high': 32.16,\n",
            "    'low': 32.16,\n",
            "    'open': 32.16,\n",
            "    'symbol': 'UPRO',\n",
            "    'timestamp': 1655495940000000000,\n",
            "    'trade_count': 4,\n",
            "    'volume': 190,\n",
            "    'vwap': 32.159737})\n",
            "num levticks 2\n",
            "grabbed new bar for  UPRO\n",
            "bar val 32.16 runmean 32.08 percent change from open 1.005 blagh 1.0025314538358667\n",
            "entered tick processing logic with blagh 1.0025314538358667\n",
            "entered buy check processing\n",
            "blagh 1.0025314538358667 sent order quantity 3 -11 with value 743.6700000000001\n",
            "order sent for 3 SPY -11 UPRO\n",
            "canceled open orders\n",
            "made order for SPY\n",
            "made order for UPRO\n",
            "only one arm executed, liquidating 0.0 0.0\n",
            "bar Bar({   'close': 366.22,\n",
            "    'high': 366.22,\n",
            "    'low': 365.72,\n",
            "    'open': 365.85,\n",
            "    'symbol': 'SPY',\n",
            "    'timestamp': 1655496000000000000,\n",
            "    'trade_count': 15,\n",
            "    'volume': 2800,\n",
            "    'vwap': 365.968214})\n",
            "num ticks 5\n",
            "grabbed new bar for  SPY\n",
            "bar val 366.22 runmean 365.995 percent change from open 1.005827473940522 blagh 0.9991773202045473\n",
            "entered tick processing logic with blagh 0.9991773202045473\n",
            "entered buy check processing\n",
            "blagh 0.9991773202045473 sent order quantity 3 -11 with value 744.9000000000001\n",
            "order sent for 3 SPY -11 UPRO\n",
            "canceled open orders\n",
            "made order for SPY\n",
            "made order for UPRO\n",
            "only one arm executed, liquidating 0.0 0.0\n"
          ]
        },
        {
          "output_type": "stream",
          "name": "stderr",
          "text": [
            "error during websocket communication: \n",
            "Traceback (most recent call last):\n",
            "  File \"/usr/local/lib/python3.7/dist-packages/nest_asyncio.py\", line 35, in run\n",
            "    return loop.run_until_complete(task)\n",
            "  File \"/usr/local/lib/python3.7/dist-packages/nest_asyncio.py\", line 83, in run_until_complete\n",
            "    self._run_once()\n",
            "  File \"/usr/local/lib/python3.7/dist-packages/nest_asyncio.py\", line 106, in _run_once\n",
            "    event_list = self._selector.select(timeout)\n",
            "  File \"/usr/lib/python3.7/selectors.py\", line 468, in select\n",
            "    fd_event_list = self._selector.poll(timeout, max_ev)\n",
            "KeyboardInterrupt\n",
            "\n",
            "During handling of the above exception, another exception occurred:\n",
            "\n",
            "Traceback (most recent call last):\n",
            "  File \"/usr/local/lib/python3.7/dist-packages/alpaca_trade_api/stream.py\", line 254, in _run_forever\n",
            "    await self._consume()\n",
            "  File \"/usr/local/lib/python3.7/dist-packages/alpaca_trade_api/stream.py\", line 127, in _consume\n",
            "    r = await asyncio.wait_for(self._ws.recv(), 5)\n",
            "  File \"/usr/lib/python3.7/asyncio/tasks.py\", line 435, in wait_for\n",
            "    await waiter\n",
            "  File \"/usr/lib/python3.7/asyncio/futures.py\", line 263, in __await__\n",
            "    yield self  # This tells Task to wait for completion.\n",
            "  File \"/usr/lib/python3.7/asyncio/tasks.py\", line 318, in __wakeup\n",
            "    future.result()\n",
            "  File \"/usr/lib/python3.7/asyncio/futures.py\", line 176, in result\n",
            "    raise CancelledError\n",
            "concurrent.futures._base.CancelledError\n"
          ]
        },
        {
          "output_type": "stream",
          "name": "stdout",
          "text": [
            "keyboard interrupt, bye\n"
          ]
        }
      ]
    },
    {
      "cell_type": "code",
      "source": [
        ""
      ],
      "metadata": {
        "id": "EMUEPD_l9PtC"
      },
      "execution_count": null,
      "outputs": []
    },
    {
      "cell_type": "code",
      "source": [
        ""
      ],
      "metadata": {
        "id": "D5p1qpPG9Pvy"
      },
      "execution_count": null,
      "outputs": []
    },
    {
      "cell_type": "code",
      "source": [
        ""
      ],
      "metadata": {
        "id": "2dc5qot09PyY"
      },
      "execution_count": null,
      "outputs": []
    },
    {
      "cell_type": "code",
      "source": [
        ""
      ],
      "metadata": {
        "id": "S5nfUSOJ9P1P"
      },
      "execution_count": null,
      "outputs": []
    },
    {
      "cell_type": "code",
      "source": [
        ""
      ],
      "metadata": {
        "id": "8DIw2kxs9O80"
      },
      "execution_count": null,
      "outputs": []
    },
    {
      "cell_type": "code",
      "source": [
        ""
      ],
      "metadata": {
        "id": "ZE3YwpP43-og"
      },
      "execution_count": null,
      "outputs": []
    },
    {
      "cell_type": "code",
      "source": [
        ""
      ],
      "metadata": {
        "id": "Hp0AUOca3-qr"
      },
      "execution_count": null,
      "outputs": []
    },
    {
      "cell_type": "code",
      "source": [
        ""
      ],
      "metadata": {
        "id": "pLH39sT93-tI"
      },
      "execution_count": null,
      "outputs": []
    }
  ]
}