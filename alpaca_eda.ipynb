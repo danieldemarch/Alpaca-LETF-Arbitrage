{
  "nbformat": 4,
  "nbformat_minor": 0,
  "metadata": {
    "colab": {
      "name": "alpaca_eda.ipynb",
      "provenance": [],
      "collapsed_sections": []
    },
    "kernelspec": {
      "name": "python3",
      "display_name": "Python 3"
    },
    "language_info": {
      "name": "python"
    }
  },
  "cells": [
    {
      "cell_type": "code",
      "execution_count": null,
      "metadata": {
        "colab": {
          "base_uri": "https://localhost:8080/",
          "height": 659
        },
        "id": "sgxva76wCaBk",
        "outputId": "71da7c30-8f84-4b03-e326-62580027342c"
      },
      "outputs": [
        {
          "output_type": "stream",
          "name": "stdout",
          "text": [
            "Looking in indexes: https://pypi.org/simple, https://us-python.pkg.dev/colab-wheels/public/simple/\n",
            "Collecting pandas==1.1.5\n",
            "  Downloading pandas-1.1.5-cp37-cp37m-manylinux1_x86_64.whl (9.5 MB)\n",
            "\u001b[K     |████████████████████████████████| 9.5 MB 4.2 MB/s \n",
            "\u001b[?25hCollecting numpy==1.19.4\n",
            "  Downloading numpy-1.19.4-cp37-cp37m-manylinux2010_x86_64.whl (14.5 MB)\n",
            "\u001b[K     |████████████████████████████████| 14.5 MB 25.1 MB/s \n",
            "\u001b[?25hCollecting scipy==1.5.4\n",
            "  Downloading scipy-1.5.4-cp37-cp37m-manylinux1_x86_64.whl (25.9 MB)\n",
            "\u001b[K     |████████████████████████████████| 25.9 MB 55.7 MB/s \n",
            "\u001b[?25hRequirement already satisfied: python-dateutil>=2.7.3 in /usr/local/lib/python3.7/dist-packages (from pandas==1.1.5) (2.8.2)\n",
            "Requirement already satisfied: pytz>=2017.2 in /usr/local/lib/python3.7/dist-packages (from pandas==1.1.5) (2022.1)\n",
            "Requirement already satisfied: six>=1.5 in /usr/local/lib/python3.7/dist-packages (from python-dateutil>=2.7.3->pandas==1.1.5) (1.15.0)\n",
            "Installing collected packages: numpy, scipy, pandas\n",
            "  Attempting uninstall: numpy\n",
            "    Found existing installation: numpy 1.21.6\n",
            "    Uninstalling numpy-1.21.6:\n",
            "      Successfully uninstalled numpy-1.21.6\n",
            "  Attempting uninstall: scipy\n",
            "    Found existing installation: scipy 1.4.1\n",
            "    Uninstalling scipy-1.4.1:\n",
            "      Successfully uninstalled scipy-1.4.1\n",
            "  Attempting uninstall: pandas\n",
            "    Found existing installation: pandas 1.3.5\n",
            "    Uninstalling pandas-1.3.5:\n",
            "      Successfully uninstalled pandas-1.3.5\n",
            "\u001b[31mERROR: pip's dependency resolver does not currently take into account all the packages that are installed. This behaviour is the source of the following dependency conflicts.\n",
            "xarray-einstats 0.2.2 requires numpy>=1.21, but you have numpy 1.19.4 which is incompatible.\n",
            "tensorflow 2.8.2+zzzcolab20220527125636 requires numpy>=1.20, but you have numpy 1.19.4 which is incompatible.\n",
            "datascience 0.10.6 requires folium==0.2.1, but you have folium 0.8.3 which is incompatible.\n",
            "albumentations 0.1.12 requires imgaug<0.2.7,>=0.2.5, but you have imgaug 0.2.9 which is incompatible.\u001b[0m\n",
            "Successfully installed numpy-1.19.4 pandas-1.1.5 scipy-1.5.4\n"
          ]
        },
        {
          "output_type": "display_data",
          "data": {
            "application/vnd.colab-display-data+json": {
              "pip_warning": {
                "packages": [
                  "numpy"
                ]
              }
            }
          },
          "metadata": {}
        }
      ],
      "source": [
        "!pip install pandas==1.1.5 numpy==1.19.4 scipy==1.5.4\n"
      ]
    },
    {
      "cell_type": "code",
      "source": [
        "!pip install websockets>=9.0\n"
      ],
      "metadata": {
        "id": "YIKsp3XLCciW"
      },
      "execution_count": null,
      "outputs": []
    },
    {
      "cell_type": "code",
      "source": [
        "!pip install alpaca-trade-api\n"
      ],
      "metadata": {
        "colab": {
          "base_uri": "https://localhost:8080/"
        },
        "id": "wPwHNfRRCgXr",
        "outputId": "ad0ba702-6e4f-40ec-d10f-5e3f05a575f0"
      },
      "execution_count": null,
      "outputs": [
        {
          "output_type": "stream",
          "name": "stdout",
          "text": [
            "Looking in indexes: https://pypi.org/simple, https://us-python.pkg.dev/colab-wheels/public/simple/\n",
            "Collecting alpaca-trade-api\n",
            "  Downloading alpaca_trade_api-2.2.0-py3-none-any.whl (33 kB)\n",
            "Collecting websocket-client<2,>=0.56.0\n",
            "  Downloading websocket_client-1.3.2-py3-none-any.whl (54 kB)\n",
            "\u001b[K     |████████████████████████████████| 54 kB 2.7 MB/s \n",
            "\u001b[?25hCollecting aiohttp==3.8.1\n",
            "  Downloading aiohttp-3.8.1-cp37-cp37m-manylinux_2_5_x86_64.manylinux1_x86_64.manylinux_2_12_x86_64.manylinux2010_x86_64.whl (1.1 MB)\n",
            "\u001b[K     |████████████████████████████████| 1.1 MB 6.7 MB/s \n",
            "\u001b[?25hCollecting deprecation==2.1.0\n",
            "  Downloading deprecation-2.1.0-py2.py3-none-any.whl (11 kB)\n",
            "Collecting PyYAML==6.0\n",
            "  Downloading PyYAML-6.0-cp37-cp37m-manylinux_2_5_x86_64.manylinux1_x86_64.manylinux_2_12_x86_64.manylinux2010_x86_64.whl (596 kB)\n",
            "\u001b[K     |████████████████████████████████| 596 kB 38.5 MB/s \n",
            "\u001b[?25hRequirement already satisfied: urllib3<2,>1.24 in /usr/local/lib/python3.7/dist-packages (from alpaca-trade-api) (1.24.3)\n",
            "Collecting msgpack==1.0.3\n",
            "  Downloading msgpack-1.0.3-cp37-cp37m-manylinux_2_17_x86_64.manylinux2014_x86_64.whl (299 kB)\n",
            "\u001b[K     |████████████████████████████████| 299 kB 49.0 MB/s \n",
            "\u001b[?25hRequirement already satisfied: websockets<11,>=9.0 in /usr/local/lib/python3.7/dist-packages (from alpaca-trade-api) (10.3)\n",
            "Requirement already satisfied: requests<3,>2 in /usr/local/lib/python3.7/dist-packages (from alpaca-trade-api) (2.23.0)\n",
            "Requirement already satisfied: numpy>=1.11.1 in /usr/local/lib/python3.7/dist-packages (from alpaca-trade-api) (1.19.4)\n",
            "Requirement already satisfied: pandas>=0.18.1 in /usr/local/lib/python3.7/dist-packages (from alpaca-trade-api) (1.1.5)\n",
            "Requirement already satisfied: typing-extensions>=3.7.4 in /usr/local/lib/python3.7/dist-packages (from aiohttp==3.8.1->alpaca-trade-api) (4.1.1)\n",
            "Requirement already satisfied: attrs>=17.3.0 in /usr/local/lib/python3.7/dist-packages (from aiohttp==3.8.1->alpaca-trade-api) (21.4.0)\n",
            "Collecting aiosignal>=1.1.2\n",
            "  Downloading aiosignal-1.2.0-py3-none-any.whl (8.2 kB)\n",
            "Collecting asynctest==0.13.0\n",
            "  Downloading asynctest-0.13.0-py3-none-any.whl (26 kB)\n",
            "Collecting yarl<2.0,>=1.0\n",
            "  Downloading yarl-1.7.2-cp37-cp37m-manylinux_2_5_x86_64.manylinux1_x86_64.manylinux_2_12_x86_64.manylinux2010_x86_64.whl (271 kB)\n",
            "\u001b[K     |████████████████████████████████| 271 kB 44.1 MB/s \n",
            "\u001b[?25hCollecting frozenlist>=1.1.1\n",
            "  Downloading frozenlist-1.3.0-cp37-cp37m-manylinux_2_5_x86_64.manylinux1_x86_64.manylinux_2_17_x86_64.manylinux2014_x86_64.whl (144 kB)\n",
            "\u001b[K     |████████████████████████████████| 144 kB 38.2 MB/s \n",
            "\u001b[?25hCollecting multidict<7.0,>=4.5\n",
            "  Downloading multidict-6.0.2-cp37-cp37m-manylinux_2_17_x86_64.manylinux2014_x86_64.whl (94 kB)\n",
            "\u001b[K     |████████████████████████████████| 94 kB 2.1 MB/s \n",
            "\u001b[?25hRequirement already satisfied: charset-normalizer<3.0,>=2.0 in /usr/local/lib/python3.7/dist-packages (from aiohttp==3.8.1->alpaca-trade-api) (2.0.12)\n",
            "Collecting async-timeout<5.0,>=4.0.0a3\n",
            "  Downloading async_timeout-4.0.2-py3-none-any.whl (5.8 kB)\n",
            "Requirement already satisfied: packaging in /usr/local/lib/python3.7/dist-packages (from deprecation==2.1.0->alpaca-trade-api) (21.3)\n",
            "Requirement already satisfied: python-dateutil>=2.7.3 in /usr/local/lib/python3.7/dist-packages (from pandas>=0.18.1->alpaca-trade-api) (2.8.2)\n",
            "Requirement already satisfied: pytz>=2017.2 in /usr/local/lib/python3.7/dist-packages (from pandas>=0.18.1->alpaca-trade-api) (2022.1)\n",
            "Requirement already satisfied: six>=1.5 in /usr/local/lib/python3.7/dist-packages (from python-dateutil>=2.7.3->pandas>=0.18.1->alpaca-trade-api) (1.15.0)\n",
            "Requirement already satisfied: idna<3,>=2.5 in /usr/local/lib/python3.7/dist-packages (from requests<3,>2->alpaca-trade-api) (2.10)\n",
            "Requirement already satisfied: certifi>=2017.4.17 in /usr/local/lib/python3.7/dist-packages (from requests<3,>2->alpaca-trade-api) (2022.6.15)\n",
            "Requirement already satisfied: chardet<4,>=3.0.2 in /usr/local/lib/python3.7/dist-packages (from requests<3,>2->alpaca-trade-api) (3.0.4)\n",
            "Requirement already satisfied: pyparsing!=3.0.5,>=2.0.2 in /usr/local/lib/python3.7/dist-packages (from packaging->deprecation==2.1.0->alpaca-trade-api) (3.0.9)\n",
            "Installing collected packages: multidict, frozenlist, yarl, asynctest, async-timeout, aiosignal, websocket-client, PyYAML, msgpack, deprecation, aiohttp, alpaca-trade-api\n",
            "  Attempting uninstall: PyYAML\n",
            "    Found existing installation: PyYAML 3.13\n",
            "    Uninstalling PyYAML-3.13:\n",
            "      Successfully uninstalled PyYAML-3.13\n",
            "  Attempting uninstall: msgpack\n",
            "    Found existing installation: msgpack 1.0.4\n",
            "    Uninstalling msgpack-1.0.4:\n",
            "      Successfully uninstalled msgpack-1.0.4\n",
            "Successfully installed PyYAML-6.0 aiohttp-3.8.1 aiosignal-1.2.0 alpaca-trade-api-2.2.0 async-timeout-4.0.2 asynctest-0.13.0 deprecation-2.1.0 frozenlist-1.3.0 msgpack-1.0.3 multidict-6.0.2 websocket-client-1.3.2 yarl-1.7.2\n"
          ]
        }
      ]
    },
    {
      "cell_type": "code",
      "source": [
        "import pandas as pd"
      ],
      "metadata": {
        "id": "8Fwx4Hfw2-ov"
      },
      "execution_count": null,
      "outputs": []
    },
    {
      "cell_type": "code",
      "source": [
        "import alpaca_trade_api as tradeapi\n",
        "\n",
        "# API Info for fetching data, portfolio, etc. from Alpaca\n",
        "BASE_URL = \"https://paper-api.alpaca.markets\"\n",
        "ALPACA_API_KEY = \"PKZBF19BMWCUWI0SA9E3\"\n",
        "ALPACA_SECRET_KEY = \"uX2AdG5eqYzu80wf5PsjbrbvFoKR9NOx2iuDQHfP\"\n",
        "\n",
        "# Instantiate REST API Connection\n",
        "api = tradeapi.REST(key_id=ALPACA_API_KEY, secret_key=ALPACA_SECRET_KEY, \n",
        "                    base_url=BASE_URL, api_version='v2')"
      ],
      "metadata": {
        "id": "mMCXBzecDH5u"
      },
      "execution_count": null,
      "outputs": []
    },
    {
      "cell_type": "code",
      "source": [
        "def get_proj_ret(df):\n",
        "  df['Proj_Returns'] = (3*(d1['Open_Change'].values-1)+1)\n",
        "\n",
        "  return df"
      ],
      "metadata": {
        "id": "sBnC9Nzhw0H4"
      },
      "execution_count": null,
      "outputs": []
    },
    {
      "cell_type": "code",
      "source": [
        "def get_percent_ret(df):\n",
        "  df['Open_Change'] = (df['open'].values) / df['open'].iloc[0]\n",
        "\n",
        "  return df"
      ],
      "metadata": {
        "id": "u4rV11kEFzkR"
      },
      "execution_count": null,
      "outputs": []
    },
    {
      "cell_type": "code",
      "source": [
        "import numpy as np"
      ],
      "metadata": {
        "id": "kHJLdwsJMtxR"
      },
      "execution_count": null,
      "outputs": []
    },
    {
      "cell_type": "code",
      "source": [
        "import matplotlib.pyplot as plt"
      ],
      "metadata": {
        "id": "m5r8XklwJQSG"
      },
      "execution_count": null,
      "outputs": []
    },
    {
      "cell_type": "code",
      "source": [
        "from alpaca_trade_api.rest import REST, TimeFrame, TimeFrameUnit\n"
      ],
      "metadata": {
        "id": "3LFMv1xtGE3n"
      },
      "execution_count": null,
      "outputs": []
    },
    {
      "cell_type": "code",
      "source": [
        "def blaghify(date, tick, levtick):\n",
        "  d1 = api.get_bars(tick, TimeFrame(1, TimeFrameUnit.Minute), date, date, adjustment='raw').df\n",
        "\n",
        "  if(len(d1) == 0):\n",
        "    return -1\n",
        "  d2 = api.get_bars(levtick, TimeFrame(1, TimeFrameUnit.Minute), date, date, adjustment='raw').df\n",
        "\n",
        "  #get bar data for both instruments\n",
        "\n",
        "  date2 = pd.to_datetime(date)\n",
        "  ninethrity = date2.replace(hour=9, minute=30, second=0, microsecond=0)\n",
        "  four = date2.replace(hour=16, minute=0, second=0, microsecond=0)\n",
        "  over_d1 = d1[d1.index.isin(d2.index.values)]\n",
        "  over_d2 = d2[d2.index.isin(d1.index.values)]\n",
        "  over_d1 = over_d1[over_d1.index.values >= ninethrity]\n",
        "  over_d1 = over_d1[over_d1.index.values <= four]\n",
        "\n",
        "  over_d2 = over_d2[over_d2.index.values >= ninethrity]\n",
        "  over_d2 = over_d2[over_d2.index.values <= four]\n",
        "\n",
        "  #filter by time and overlap\n",
        "  d1, d2 = get_percent_ret(over_d1), get_percent_ret(over_d2)\n",
        "  blagh = (d2['Open_Change'].values)/(3*(d1['Open_Change'].values-1)+1)\n",
        "  #get theoretical degree of divergence between unlevered and 3x levered instrument\n",
        "  return blagh, d1, d2"
      ],
      "metadata": {
        "id": "qmjZCWguzX99"
      },
      "execution_count": null,
      "outputs": []
    },
    {
      "cell_type": "code",
      "source": [
        "tick = \"SPY\"\n",
        "levtick = \"UPRO\""
      ],
      "metadata": {
        "id": "kU374uFJ0dh7"
      },
      "execution_count": null,
      "outputs": []
    },
    {
      "cell_type": "code",
      "source": [
        "def running_mean_std(x):\n",
        "    serx = pd.Series(x)\n",
        "    mean = list(serx.rolling(10, min_periods=1).mean())\n",
        "    std = list(serx.rolling(10, min_periods=1).std())\n",
        "    #mean.insert(0, serx[0])\n",
        "    #std.insert(0, 0)\n",
        "    return np.array(mean), np.array(std)"
      ],
      "metadata": {
        "id": "RUnzb9dvA9FO"
      },
      "execution_count": null,
      "outputs": []
    },
    {
      "cell_type": "code",
      "source": [
        "def run_strategy(date, tick, levtick):\n",
        "\n",
        "  #initialize vars\n",
        "  i=0\n",
        "  netprophet = 0\n",
        "  netexposure = 0\n",
        "\n",
        "  wincount = 0\n",
        "  numarbs = 0\n",
        "\n",
        "  maxcapital = 0\n",
        "  blagh, d1, d2 = blaghify(date, tick, levtick)\n",
        "  runmean, runstd = running_mean_std(blagh)\n",
        "  divergence = blagh[i] - runmean[i]\n",
        "  while(i < min(200, len(blagh)-1)):\n",
        "    if(divergence > 0):\n",
        "      numarbs+=1\n",
        "      #implies upro too high\n",
        "      upro = 0\n",
        "      spy = 3\n",
        "      uprice = d2['open'].iloc[i]\n",
        "      sprice = d1['open'].iloc[i]\n",
        "\n",
        "      #calculate quantity of upro to buy relative to amount of spy\n",
        "      upro = spy*sprice/3\n",
        "      upro = upro/uprice\n",
        "      upro = -1*int(upro)\n",
        "\n",
        "      pricepaid = sprice*spy+upro*uprice \n",
        "      lever_aj_price = sprice*spy + upro*uprice*3\n",
        "      netexposure += (sprice*spy + abs(upro*uprice))\n",
        "      if((abs(sprice*spy) + abs(upro*uprice)) > maxcapital):\n",
        "        maxcapital = (sprice*spy + abs(upro*uprice))\n",
        "\n",
        "      while(divergence > 0 and i < len(blagh)-1):\n",
        "        i+=1\n",
        "        divergence = blagh[i] - runmean[i]\n",
        "\n",
        "      #update price once divergence corrected, sell instruments and check profit\n",
        "      uprice = d2['open'].iloc[i]\n",
        "      sprice = d1['open'].iloc[i]\n",
        "      pricesold = sprice*spy + upro*uprice\n",
        "      netprophet += pricesold-pricepaid\n",
        "      \n",
        "      if(pricesold > pricepaid):\n",
        "        wincount+=1\n",
        "\n",
        "    if(divergence < 0):\n",
        "      #same concept but now SPY too high\n",
        "      numarbs+=1\n",
        "      #implies spy too high\n",
        "      upro = 0\n",
        "      spy = -3\n",
        "      uprice = d2['open'].iloc[i]\n",
        "      sprice = d1['open'].iloc[i]\n",
        "\n",
        "      upro = spy*sprice/3\n",
        "      upro = upro/uprice\n",
        "      upro = -1*int(upro)\n",
        "\n",
        "      pricepaid = sprice*spy+upro*uprice #sprice is cost, upro*uprice is benefit\n",
        "      netexposure += (abs(sprice*spy) + abs(upro*uprice))\n",
        "      lever_aj_price = sprice*spy + upro*uprice*3\n",
        "\n",
        "      if((abs(sprice*spy) + abs(upro*uprice)) > maxcapital):\n",
        "        maxcapital = (abs(sprice*spy) + abs(upro*uprice))\n",
        "\n",
        "      while(divergence < 0 and i < len(blagh)-1):\n",
        "        i+=1\n",
        "        divergence = blagh[i] - runmean[i]\n",
        "\n",
        "      uprice = d2['open'].iloc[i]\n",
        "      sprice = d1['open'].iloc[i]\n",
        "      pricesold = sprice*spy + upro*uprice\n",
        "      netprophet += pricesold-pricepaid\n",
        "\n",
        "      if(pricesold > pricepaid):\n",
        "        wincount+=1 \n",
        "\n",
        "    else:\n",
        "      i+=1\n",
        "      if(i == len(blagh)):\n",
        "        break\n",
        "      divergence = blagh[i] - runmean[i]\n",
        "      #print(i)\n",
        "      #print()\n",
        "  return netprophet, netexposure, wincount/numarbs, maxcapital\n",
        "\n",
        "  \n",
        "\n"
      ],
      "metadata": {
        "id": "_YfV5k7lw8l2"
      },
      "execution_count": null,
      "outputs": []
    },
    {
      "cell_type": "code",
      "source": [
        "run_strategy(\"2022-05-03\", \"SPY\", \"UPRO\")"
      ],
      "metadata": {
        "colab": {
          "base_uri": "https://localhost:8080/"
        },
        "id": "cY1tgfyLDtG-",
        "outputId": "c6136525-c30d-4a31-cf21-317410934acc"
      },
      "execution_count": null,
      "outputs": [
        {
          "output_type": "execute_result",
          "data": {
            "text/plain": [
              "(22.693000000003167, 161363.59890000004, 0.9090909090909091, 1641.2)"
            ]
          },
          "metadata": {},
          "execution_count": 67
        }
      ]
    },
    {
      "cell_type": "code",
      "source": [
        "#checks the method on a month of data for a whole lot of leveraged-unleveraged pairs\n",
        "\n",
        "netprophets = []\n",
        "netexposures = []\n",
        "winrates = []\n",
        "maxcapitals = []\n",
        "blaghs = []\n",
        "tick = \"SPY\"\n",
        "levtick = \"UPRO\"\n",
        "for i in range(1, 32):\n",
        "  date = \"2022-05-\"+str(i)\n",
        "  if(i < 10):\n",
        "    date = \"2022-05-0\"+str(i)\n",
        "  #print(i, date, tick, levtick)\n",
        "  \n",
        "  if(blaghify(date, tick, levtick) is not -1):\n",
        "\n",
        "    print(date, tick, levtick)\n",
        "    netprophet, netexposure, winr, maxcapital = run_strategy(date, tick, levtick)\n",
        "    print(netprophet, netexposure, winr, maxcapital)\n",
        "\n",
        "    if(sum([netprophet, netexposure, winr, maxcapital]) != -4):\n",
        "\n",
        "      netprophets.append(netprophet)\n",
        "      netexposures.append(netexposure)\n",
        "      winrates.append(winr)\n",
        "      maxcapitals.append(maxcapital)"
      ],
      "metadata": {
        "colab": {
          "base_uri": "https://localhost:8080/"
        },
        "id": "FZm-W_Qt0_Ym",
        "outputId": "383b79aa-0598-4bbf-fe25-e19260e72545"
      },
      "execution_count": null,
      "outputs": [
        {
          "output_type": "stream",
          "name": "stdout",
          "text": [
            "2022-05-02 SPY UPRO\n",
            "25.733599999999115 153607.90580000004 0.8947368421052632 1634.9199999999998\n",
            "2022-05-03 SPY UPRO\n",
            "22.693000000003167 161363.59890000004 0.9090909090909091 1641.2\n",
            "2022-05-04 SPY UPRO\n",
            "17.847399999997492 167356.7759 0.9705882352941176 1652.03\n",
            "2022-05-05 SPY UPRO\n",
            "26.111800000000244 158477.5109 0.9680851063829787 1700.9500000000003\n",
            "2022-05-06 SPY UPRO\n",
            "34.848300000001814 160611.16280000005 0.92 1624.9299999999998\n",
            "2022-05-09 SPY UPRO\n",
            "43.40159999999946 143546.62140000003 0.9775280898876404 1623.6\n",
            "2022-05-10 SPY UPRO\n",
            "31.669799999998645 161736.35250000007 1.0 1620.27\n",
            "2022-05-11 SPY UPRO\n",
            "22.259400000002643 133641.20789999998 0.9642857142857143 1610.8799999999999\n",
            "2022-05-12 SPY UPRO\n",
            "36.64080000000126 155595.25560000003 0.9705882352941176 1536.2400000000002\n",
            "2022-05-13 SPY UPRO\n",
            "29.748599999999897 160304.71560000008 0.9705882352941176 1592.9099999999999\n",
            "2022-05-16 SPY UPRO\n",
            "35.97480000000064 179231.28719999993 0.9911504424778761 1597.9791\n",
            "2022-05-17 SPY UPRO\n",
            "21.305399999998713 150741.63330000002 0.978494623655914 1629.9\n",
            "2022-05-18 SPY UPRO\n",
            "18.629999999999427 157581.0815999999 0.9693877551020408 1627.35\n",
            "2022-05-19 SPY UPRO\n",
            "32.682399999999234 119600.26099999991 0.9487179487179487 1552.89\n",
            "2022-05-20 SPY UPRO\n",
            "18.124600000001806 150873.50350000008 0.9183673469387755 1553.3799999999999\n",
            "2022-05-23 SPY UPRO\n",
            "25.737599999998338 144933.96540000013 0.925531914893617 1549.3199999999997\n",
            "2022-05-24 SPY UPRO\n",
            "18.569999999997208 133937.7784 0.9655172413793104 1555.01\n",
            "2022-05-25 SPY UPRO\n",
            "22.781999999998106 140805.05099999995 0.9560439560439561 1566.0149999999999\n",
            "2022-05-26 SPY UPRO\n",
            "19.994999999998072 149094.9429 0.9361702127659575 1604.07\n",
            "2022-05-27 SPY UPRO\n",
            "19.156399999998712 156898.04979999998 0.9175257731958762 1638.54\n",
            "2022-05-31 SPY UPRO\n",
            "24.800799999998162 159494.24360000007 0.9191919191919192 1641.51\n"
          ]
        }
      ]
    },
    {
      "cell_type": "code",
      "source": [
        "100*sum(netprophets)/sum(maxcapitals)"
      ],
      "metadata": {
        "id": "qi6vD79Ku_qb",
        "colab": {
          "base_uri": "https://localhost:8080/"
        },
        "outputId": "104635d1-4ffa-47bc-985a-414e06bf2931"
      },
      "execution_count": null,
      "outputs": [
        {
          "output_type": "execute_result",
          "data": {
            "text/plain": [
              "1.6256296188355708"
            ]
          },
          "metadata": {},
          "execution_count": 69
        }
      ]
    },
    {
      "cell_type": "code",
      "source": [
        "netprophets = []\n",
        "netexposures = []\n",
        "winrates = []\n",
        "maxcapitals = []\n",
        "blaghs = []\n",
        "tick = \"QQQ\"\n",
        "levtick = \"TQQQ\"\n",
        "for i in range(1, 32):\n",
        "  date = \"2022-05-\"+str(i)\n",
        "  if(i < 10):\n",
        "    date = \"2022-05-0\"+str(i)\n",
        "  #print(i, date, tick, levtick)\n",
        "  \n",
        "  if(blaghify(date, tick, levtick) is not -1):\n",
        "\n",
        "    print(date, tick, levtick)\n",
        "    netprophet, netexposure, winr, maxcapital = run_strategy(date, tick, levtick)\n",
        "    print(netprophet, netexposure, winr, maxcapital)\n",
        "\n",
        "    if(sum([netprophet, netexposure, winr, maxcapital]) != -4):\n",
        "\n",
        "      netprophets.append(netprophet)\n",
        "      netexposures.append(netexposure)\n",
        "      winrates.append(winr)\n",
        "      maxcapitals.append(maxcapital)"
      ],
      "metadata": {
        "id": "0K_gU96qu_s7",
        "colab": {
          "base_uri": "https://localhost:8080/"
        },
        "outputId": "5d0a1b86-f09d-4a68-bd07-c733a8acdbf1"
      },
      "execution_count": null,
      "outputs": [
        {
          "output_type": "stream",
          "name": "stdout",
          "text": [
            "2022-05-02 QQQ TQQQ\n",
            "21.909799999998995 131790.49950000003 0.9626168224299065 1241.92\n",
            "2022-05-03 QQQ TQQQ\n",
            "18.806199999998398 129692.33729999994 0.9902912621359223 1267.07\n",
            "2022-05-04 QQQ TQQQ\n",
            "13.746000000000663 116658.81040000002 0.9347826086956522 1272.27\n",
            "2022-05-05 QQQ TQQQ\n",
            "14.15839999999855 120750.69110000004 0.8947368421052632 1303.04\n",
            "2022-05-06 QQQ TQQQ\n",
            "20.397599999998306 116815.36480000002 0.9270833333333334 1231.07\n",
            "2022-05-09 QQQ TQQQ\n",
            "21.30239999999958 112669.26779999999 0.9468085106382979 1208.1\n",
            "2022-05-10 QQQ TQQQ\n",
            "17.277000000000612 107019.22650000005 0.9444444444444444 1198.32\n",
            "2022-05-11 QQQ TQQQ\n",
            "13.528200000001107 103818.84090000002 0.9418604651162791 1214.73\n",
            "2022-05-12 QQQ TQQQ\n",
            "27.133399999996982 115366.90230000002 0.9603960396039604 1153.07\n",
            "2022-05-13 QQQ TQQQ\n",
            "17.172600000000102 103218.34950000004 0.9325842696629213 1165.83\n",
            "2022-05-16 QQQ TQQQ\n",
            "17.52840000000117 107701.4874 0.945054945054945 1194.45\n",
            "2022-05-17 QQQ TQQQ\n",
            "15.64019999999664 113263.76309999998 0.9468085106382979 1211.91\n",
            "2022-05-18 QQQ TQQQ\n",
            "12.480599999998276 111259.0047 0.956989247311828 1208.13\n",
            "2022-05-19 QQQ TQQQ\n",
            "22.575999999998203 104137.90800000002 0.9456521739130435 1141.5\n",
            "2022-05-20 QQQ TQQQ\n",
            "13.885799999999222 106369.54790000008 0.978021978021978 1172.54\n",
            "2022-05-23 QQQ TQQQ\n",
            "21.293399999998883 110524.71929999998 0.96875 1157.62\n",
            "2022-05-24 QQQ TQQQ\n",
            "14.783999999998628 107000.12200000002 0.9574468085106383 1143.53\n",
            "2022-05-25 QQQ TQQQ\n",
            "19.735999999998057 111345.74799999999 0.9191919191919192 1133.27\n",
            "2022-05-26 QQQ TQQQ\n",
            "19.121399999996584 121396.33430000005 0.9619047619047619 1163.97\n",
            "2022-05-27 QQQ TQQQ\n",
            "14.530199999999809 114540.41009999998 0.9175257731958762 1192.5\n",
            "2022-05-31 QQQ TQQQ\n",
            "18.6804000000011 102708.42240000001 0.9642857142857143 1230.69\n"
          ]
        }
      ]
    },
    {
      "cell_type": "code",
      "source": [
        "100*sum(netprophets)/sum(maxcapitals)"
      ],
      "metadata": {
        "id": "VjKSOlIEu_vc",
        "colab": {
          "base_uri": "https://localhost:8080/"
        },
        "outputId": "b80d882f-d880-472a-c1ba-24f66b74c14a"
      },
      "execution_count": null,
      "outputs": [
        {
          "output_type": "execute_result",
          "data": {
            "text/plain": [
              "0.01968871503376096"
            ]
          },
          "metadata": {},
          "execution_count": 32
        }
      ]
    },
    {
      "cell_type": "code",
      "source": [
        "netprophets = []\n",
        "netexposures = []\n",
        "winrates = []\n",
        "maxcapitals = []\n",
        "blaghs = []\n",
        "tick = \"IWM\"\n",
        "levtick = \"TNA\"\n",
        "for i in range(1, 32):\n",
        "  date = \"2022-05-\"+str(i)\n",
        "  if(i < 10):\n",
        "    date = \"2022-05-0\"+str(i)\n",
        "  #print(i, date, tick, levtick)\n",
        "  \n",
        "  if(blaghify(date, tick, levtick) is not -1):\n",
        "\n",
        "    print(date, tick, levtick)\n",
        "    netprophet, netexposure, winr, maxcapital = run_strategy(date, tick, levtick)\n",
        "    print(netprophet, netexposure, winr, maxcapital)\n",
        "\n",
        "    if(sum([netprophet, netexposure, winr, maxcapital]) != -4):\n",
        "\n",
        "      netprophets.append(netprophet)\n",
        "      netexposures.append(netexposure)\n",
        "      winrates.append(winr)\n",
        "      maxcapitals.append(maxcapital)"
      ],
      "metadata": {
        "id": "mIpoYu0Nu_x-",
        "colab": {
          "base_uri": "https://localhost:8080/"
        },
        "outputId": "eb46386c-12dc-4816-b268-33a2fd970042"
      },
      "execution_count": null,
      "outputs": [
        {
          "output_type": "stream",
          "name": "stdout",
          "text": [
            "2022-05-02 IWM TNA\n",
            "13.910199999997985 86856.56190000002 0.9322033898305084 748.54\n",
            "2022-05-03 IWM TNA\n",
            "16.634799999999416 79436.01770000001 0.8715596330275229 748.54\n",
            "2022-05-04 IWM TNA\n",
            "10.193400000000167 75597.96729999999 0.8846153846153846 748.54\n",
            "2022-05-05 IWM TNA\n",
            "13.669899999997938 73489.94079999998 0.8217821782178217 750.2552000000001\n",
            "2022-05-06 IWM TNA\n",
            "22.602399999998227 75002.70179999998 0.9805825242718447 741.49\n",
            "2022-05-09 IWM TNA\n",
            "21.68720000000212 92069.55020000001 0.9318181818181818 708.22\n",
            "2022-05-10 IWM TNA\n",
            "19.71639999999934 83345.14319999996 0.8852459016393442 696.88\n",
            "2022-05-11 IWM TNA\n",
            "19.69979999999896 84647.44150000002 0.8467741935483871 693.26\n",
            "2022-05-12 IWM TNA\n",
            "28.017600000001153 96557.7554 0.8513513513513513 670.44\n",
            "2022-05-13 IWM TNA\n",
            "14.344000000000165 87229.148 0.8359375 692.8656\n",
            "2022-05-16 IWM TNA\n",
            "13.452800000001218 70338.55720000002 0.8627450980392157 699.3699999999999\n",
            "2022-05-17 IWM TNA\n",
            "13.92600000000067 76906.62839999997 0.8899082568807339 710.4549999999999\n",
            "2022-05-18 IWM TNA\n",
            "12.533000000000925 83851.96290000003 0.9327731092436975 714.9200000000001\n",
            "2022-05-19 IWM TNA\n",
            "17.327999999999918 68530.07920000001 0.8118811881188119 693.2403999999999\n",
            "2022-05-20 IWM TNA\n",
            "13.218999999998687 72580.90710000001 0.9150943396226415 698.11\n",
            "2022-05-23 IWM TNA\n",
            "19.126800000000003 84090.28380000005 0.9262295081967213 694.5899999999999\n",
            "2022-05-24 IWM TNA\n",
            "14.487600000000157 68592.43199999999 0.9019607843137255 685.37\n",
            "2022-05-25 IWM TNA\n",
            "11.53180000000026 77089.5449 0.8761061946902655 694.1399999999999\n",
            "2022-05-26 IWM TNA\n",
            "17.626600000001304 98493.79069999995 0.9424460431654677 717.2700000000001\n",
            "2022-05-27 IWM TNA\n",
            "13.753200000000561 90356.18140000004 0.9274193548387096 737.93\n",
            "2022-05-31 IWM TNA\n",
            "13.816799999999887 92606.23899999999 0.9365079365079365 742.53\n"
          ]
        }
      ]
    },
    {
      "cell_type": "code",
      "source": [
        "100*sum(netprophets)/sum(maxcapitals)"
      ],
      "metadata": {
        "id": "AeS79W0Au_0m",
        "colab": {
          "base_uri": "https://localhost:8080/"
        },
        "outputId": "6faf312c-6342-4725-c1cd-7c575c8f254f"
      },
      "execution_count": null,
      "outputs": [
        {
          "output_type": "execute_result",
          "data": {
            "text/plain": [
              "0.022771621898781486"
            ]
          },
          "metadata": {},
          "execution_count": 34
        }
      ]
    },
    {
      "cell_type": "code",
      "source": [
        "netprophets = []\n",
        "netexposures = []\n",
        "winrates = []\n",
        "maxcapitals = []\n",
        "blaghs = []\n",
        "tick = \"IJH\"\n",
        "levtick = \"MIDU\"\n",
        "for i in range(1, 32):\n",
        "  date = \"2022-05-\"+str(i)\n",
        "  if(i < 10):\n",
        "    date = \"2022-05-0\"+str(i)\n",
        "  #print(i, date, tick, levtick)\n",
        "  \n",
        "  if(blaghify(date, tick, levtick) is not -1):\n",
        "\n",
        "    print(date, tick, levtick)\n",
        "    netprophet, netexposure, winr, maxcapital = run_strategy(date, tick, levtick)\n",
        "    print(netprophet, netexposure, winr, maxcapital)\n",
        "\n",
        "    if(sum([netprophet, netexposure, winr, maxcapital]) != -4):\n",
        "\n",
        "      netprophets.append(netprophet)\n",
        "      netexposures.append(netexposure)\n",
        "      winrates.append(winr)\n",
        "      maxcapitals.append(maxcapital)"
      ],
      "metadata": {
        "id": "qaMwmaFzu_3J",
        "colab": {
          "base_uri": "https://localhost:8080/"
        },
        "outputId": "78467b83-2388-4343-a22f-a279b979b71a"
      },
      "execution_count": null,
      "outputs": [
        {
          "output_type": "stream",
          "name": "stdout",
          "text": [
            "2022-05-02 IJH MIDU\n",
            "7.647800000000075 9732.049900000002 1.0 985.4079\n",
            "2022-05-03 IJH MIDU\n",
            "9.26540000000034 14810.432400000002 0.9333333333333333 997.91\n",
            "2022-05-04 IJH MIDU\n",
            "1.8279999999998608 1999.9830000000002 1.0 1001.86\n",
            "2022-05-05 IJH MIDU\n",
            "9.85280000000023 12954.881900000002 1.0 1018.3370000000001\n",
            "2022-05-06 IJH MIDU\n",
            "20.209500000000503 20116.8265 0.9047619047619048 972.0899999999999\n",
            "2022-05-09 IJH MIDU\n",
            "18.103800000000376 20648.021099999994 0.9090909090909091 961.92\n",
            "2022-05-10 IJH MIDU\n",
            "18.22440000000006 14107.804400000003 1.0 965.3580000000001\n",
            "2022-05-11 IJH MIDU\n",
            "3.1211999999999875 7613.946199999999 0.875 963.8706\n",
            "2022-05-12 IJH MIDU\n",
            "22.13160000000022 14754.855599999999 1.0 940.89\n",
            "2022-05-13 IJH MIDU\n",
            "9.901699999999494 15144.220600000002 0.875 966.3599999999999\n",
            "2022-05-16 IJH MIDU\n",
            "0.9099999999998545 2856.76 0.3333333333333333 966.87\n",
            "2022-05-17 IJH MIDU\n",
            "5.072900000000232 9482.2739 0.9 950.809\n",
            "2022-05-18 IJH MIDU\n",
            "5.491999999999962 9447.4835 1.0 948.1500000000001\n",
            "2022-05-19 IJH MIDU\n",
            "10.39859999999993 10348.8984 0.9090909090909091 947.1\n",
            "2022-05-20 IJH MIDU\n",
            "3.772199999999941 8483.8146 0.7777777777777778 960.87\n",
            "2022-05-23 IJH MIDU\n",
            "10.431000000000154 11444.3145 0.9166666666666666 960.78\n",
            "2022-05-24 IJH MIDU\n",
            "4.539599999999837 5583.1614 1.0 942.09\n",
            "2022-05-25 IJH MIDU\n",
            "2.18520000000035 2858.1519 0.6666666666666666 959.8257\n",
            "2022-05-26 IJH MIDU\n",
            "6.403399999999806 8549.3783 0.7777777777777778 955.4243\n",
            "2022-05-27 IJH MIDU\n",
            "5.079300000000899 17571.8712 0.8888888888888888 981.6946\n",
            "2022-05-31 IJH MIDU\n",
            "13.255599999999617 18538.659799999994 1.0 983.94\n"
          ]
        }
      ]
    },
    {
      "cell_type": "code",
      "source": [
        "100*sum(netprophets)/sum(maxcapitals)"
      ],
      "metadata": {
        "colab": {
          "base_uri": "https://localhost:8080/"
        },
        "id": "QoutsZF5Hgqb",
        "outputId": "d08ab87f-4b43-4a35-d20c-33e6697819c9"
      },
      "execution_count": null,
      "outputs": [
        {
          "output_type": "execute_result",
          "data": {
            "text/plain": [
              "0.009238151267814198"
            ]
          },
          "metadata": {},
          "execution_count": 40
        }
      ]
    },
    {
      "cell_type": "code",
      "source": [
        "netprophets = []\n",
        "netexposures = []\n",
        "winrates = []\n",
        "maxcapitals = []\n",
        "blaghs = []\n",
        "tick = \"SPHB\"\n",
        "levtick = \"HIBL\"\n",
        "for i in range(1, 32):\n",
        "  date = \"2022-05-\"+str(i)\n",
        "  if(i < 10):\n",
        "    date = \"2022-05-0\"+str(i)\n",
        "  #print(i, date, tick, levtick)\n",
        "  \n",
        "  if(blaghify(date, tick, levtick) is not -1):\n",
        "\n",
        "    print(date, tick, levtick)\n",
        "    netprophet, netexposure, winr, maxcapital = run_strategy(date, tick, levtick)\n",
        "    print(netprophet, netexposure, winr, maxcapital)\n",
        "\n",
        "    if(sum([netprophet, netexposure, winr, maxcapital]) != -4):\n",
        "\n",
        "      netprophets.append(netprophet)\n",
        "      netexposures.append(netexposure)\n",
        "      winrates.append(winr)\n",
        "      maxcapitals.append(maxcapital)"
      ],
      "metadata": {
        "colab": {
          "base_uri": "https://localhost:8080/"
        },
        "id": "znZCybYuH1Jw",
        "outputId": "0ef776b6-4a31-4867-d07f-f92f46b590e2"
      },
      "execution_count": null,
      "outputs": [
        {
          "output_type": "stream",
          "name": "stdout",
          "text": [
            "2022-05-02 SPHB HIBL\n",
            "9.683800000000048 8325.7662 0.8529411764705882 247.69\n",
            "2022-05-03 SPHB HIBL\n",
            "3.96610000000004 5280.6776 0.8095238095238095 254.015\n",
            "2022-05-04 SPHB HIBL\n",
            "1.838400000000064 3769.9724000000006 0.7333333333333333 253.8514\n",
            "2022-05-05 SPHB HIBL\n",
            "5.2236000000002605 11941.939499999999 0.7446808510638298 261.455\n",
            "2022-05-06 SPHB HIBL\n",
            "18.05640000000011 11395.4012 0.9148936170212766 247.23\n",
            "2022-05-09 SPHB HIBL\n",
            "11.523599999999988 12246.3314 0.8490566037735849 236.9\n",
            "2022-05-10 SPHB HIBL\n",
            "12.553499999999644 8165.7795000000015 0.8055555555555556 232.5\n",
            "2022-05-11 SPHB HIBL\n",
            "16.427299999999775 10467.775599999999 0.782608695652174 230.44\n",
            "2022-05-12 SPHB HIBL\n",
            "10.67659999999998 8486.4839 0.8918918918918919 249.23000000000002\n",
            "2022-05-13 SPHB HIBL\n",
            "8.939600000000041 9418.049400000002 0.8780487804878049 231.8318\n",
            "2022-05-16 SPHB HIBL\n",
            "4.923000000000286 6181.132499999998 0.7777777777777778 232.06000000000003\n",
            "2022-05-17 SPHB HIBL\n",
            "5.218800000000215 6765.2842 0.8275862068965517 236.36\n",
            "2022-05-18 SPHB HIBL\n",
            "4.106200000000115 6058.1041 0.7692307692307693 234.91000000000003\n",
            "2022-05-19 SPHB HIBL\n",
            "9.981000000000193 9250.629499999997 0.8292682926829268 230.38\n",
            "2022-05-20 SPHB HIBL\n",
            "2.6164000000001977 4695.880700000001 0.7619047619047619 229.88000000000002\n",
            "2022-05-23 SPHB HIBL\n",
            "3.6783000000000925 5618.923699999999 0.6 227.63\n",
            "2022-05-24 SPHB HIBL\n",
            "4.81880000000001 6478.3964000000005 0.8148148148148148 249.40999999999997\n",
            "2022-05-25 SPHB HIBL\n",
            "5.420399999999944 4259.1209 0.8947368421052632 249.26\n",
            "2022-05-26 SPHB HIBL\n",
            "3.8915999999997553 6732.068 0.7241379310344828 234.4647\n",
            "2022-05-27 SPHB HIBL\n",
            "4.949799999999925 8758.839899999999 0.7777777777777778 245.25\n",
            "2022-05-31 SPHB HIBL\n",
            "5.599999999999994 5369.686799999999 0.8636363636363636 246.93\n"
          ]
        }
      ]
    },
    {
      "cell_type": "code",
      "source": [
        "100*sum(netprophets)/sum(maxcapitals)"
      ],
      "metadata": {
        "colab": {
          "base_uri": "https://localhost:8080/"
        },
        "id": "En2CuzQyIO6d",
        "outputId": "727ed660-9b50-4ab6-aed1-1b41632ed160"
      },
      "execution_count": null,
      "outputs": [
        {
          "output_type": "execute_result",
          "data": {
            "text/plain": [
              "3.0443106622805978"
            ]
          },
          "metadata": {},
          "execution_count": 44
        }
      ]
    },
    {
      "cell_type": "code",
      "source": [
        "netprophets = []\n",
        "netexposures = []\n",
        "winrates = []\n",
        "maxcapitals = []\n",
        "blaghs = []\n",
        "tick = \"IJH\"\n",
        "levtick = \"UMDD\"\n",
        "for i in range(1, 32):\n",
        "  date = \"2022-05-\"+str(i)\n",
        "  if(i < 10):\n",
        "    date = \"2022-05-0\"+str(i)\n",
        "  #print(i, date, tick, levtick)\n",
        "  \n",
        "  if(blaghify(date, tick, levtick) is not -1):\n",
        "\n",
        "    print(date, tick, levtick)\n",
        "    netprophet, netexposure, winr, maxcapital = run_strategy(date, tick, levtick)\n",
        "    print(netprophet, netexposure, winr, maxcapital)\n",
        "\n",
        "    if(sum([netprophet, netexposure, winr, maxcapital]) != -4):\n",
        "\n",
        "      netprophets.append(netprophet)\n",
        "      netexposures.append(netexposure)\n",
        "      winrates.append(winr)\n",
        "      maxcapitals.append(maxcapital)"
      ],
      "metadata": {
        "colab": {
          "base_uri": "https://localhost:8080/"
        },
        "id": "CaSPdhS6ISKq",
        "outputId": "cf07b8af-7c1a-4c6d-a17c-91b9f635f686"
      },
      "execution_count": null,
      "outputs": [
        {
          "output_type": "stream",
          "name": "stdout",
          "text": [
            "2022-05-02 IJH UMDD\n",
            "7.800200000000018 9844.1905 0.9 994.54\n",
            "2022-05-03 IJH UMDD\n",
            "3.161999999999807 5951.752 0.6666666666666666 1002.54\n",
            "2022-05-04 IJH UMDD\n",
            "-0.2099999999999227 998.17 0.0 998.17\n",
            "2022-05-05 IJH UMDD\n",
            "2.3440000000001646 5005.402 0.8 1020.2800000000001\n",
            "2022-05-06 IJH UMDD\n",
            "7.112999999999943 6848.967500000001 1.0 987.9596999999999\n",
            "2022-05-09 IJH UMDD\n",
            "7.5622000000000185 8544.057 1.0 960.5581999999999\n",
            "2022-05-10 IJH UMDD\n",
            "10.015599999999836 6576.0177 1.0 943.2733000000001\n",
            "2022-05-11 IJH UMDD\n",
            "2.997799999999984 4741.5089 0.8 952.1288999999999\n",
            "2022-05-12 IJH UMDD\n",
            "6.610799999999983 6518.7234 0.7142857142857143 945.1199999999999\n",
            "2022-05-13 IJH UMDD\n",
            "2.929199999999639 6686.4946 0.8571428571428571 960.4499999999999\n",
            "2022-05-16 IJH UMDD\n",
            "0.6037000000002877 2849.2474 0.6666666666666666 953.7978999999999\n",
            "2022-05-17 IJH UMDD\n",
            "5.6165999999999485 4851.8533 0.8 973.74\n",
            "2022-05-18 IJH UMDD\n",
            "6.557799999999247 9632.796100000001 0.9 965.9599999999999\n",
            "2022-05-19 IJH UMDD\n",
            "3.9059999999997785 6638.5872 0.8571428571428571 960.8999999999999\n",
            "2022-05-20 IJH UMDD\n",
            "5.599799999999618 8451.4521 0.8888888888888888 961.41\n",
            "2022-05-23 IJH UMDD\n",
            "3.369600000000446 4776.9741 0.8 960.3\n",
            "2022-05-24 IJH UMDD\n",
            "1.294800000000123 3716.8860000000004 1.0 936.84\n",
            "2022-05-25 IJH UMDD\n",
            "3.481800000000021 2864.0022 1.0 960.5699999999999\n",
            "2022-05-26 IJH UMDD\n",
            "6.47760000000045 13657.3157 0.9285714285714286 980.1985000000001\n",
            "2022-05-27 IJH UMDD\n",
            "4.561899999999923 12001.2183 1.0 1002.99\n",
            "2022-05-31 IJH UMDD\n",
            "7.1681000000002655 11984.836 0.8333333333333334 1004.27\n"
          ]
        }
      ]
    },
    {
      "cell_type": "code",
      "source": [
        "100*sum(netprophets)/sum(maxcapitals)"
      ],
      "metadata": {
        "colab": {
          "base_uri": "https://localhost:8080/"
        },
        "id": "hWp1FhWUayhJ",
        "outputId": "921141b1-916a-4a08-8028-aa7f7caaae12"
      },
      "execution_count": null,
      "outputs": [
        {
          "output_type": "execute_result",
          "data": {
            "text/plain": [
              "0.4844928863078949"
            ]
          },
          "metadata": {},
          "execution_count": 48
        }
      ]
    },
    {
      "cell_type": "code",
      "source": [
        "netprophets = []\n",
        "netexposures = []\n",
        "winrates = []\n",
        "maxcapitals = []\n",
        "blaghs = []\n",
        "tick = \"IWM\"\n",
        "levtick = \"URTY\"\n",
        "for i in range(1, 32):\n",
        "  date = \"2022-05-\"+str(i)\n",
        "  if(i < 10):\n",
        "    date = \"2022-05-0\"+str(i)\n",
        "  #print(i, date, tick, levtick)\n",
        "  \n",
        "  if(blaghify(date, tick, levtick) is not -1):\n",
        "\n",
        "    print(date, tick, levtick)\n",
        "    netprophet, netexposure, winr, maxcapital = run_strategy(date, tick, levtick)\n",
        "    print(netprophet, netexposure, winr, maxcapital)\n",
        "\n",
        "    if(sum([netprophet, netexposure, winr, maxcapital]) != -4):\n",
        "\n",
        "      netprophets.append(netprophet)\n",
        "      netexposures.append(netexposure)\n",
        "      winrates.append(winr)\n",
        "      maxcapitals.append(maxcapital)"
      ],
      "metadata": {
        "colab": {
          "base_uri": "https://localhost:8080/"
        },
        "id": "Ywu2zPn4a9GH",
        "outputId": "70339ae9-2b40-447c-ec6a-ad470cef0d2d"
      },
      "execution_count": null,
      "outputs": [
        {
          "output_type": "stream",
          "name": "stdout",
          "text": [
            "2022-05-02 IWM URTY\n",
            "40.76519999999914 51232.035 0.9577464788732394 732.1146\n",
            "2022-05-03 IWM URTY\n",
            "28.932600000000548 45339.26489999999 0.9193548387096774 738.6942\n",
            "2022-05-04 IWM URTY\n",
            "19.324199999999678 41629.00470000001 1.0 743.22\n",
            "2022-05-05 IWM URTY\n",
            "28.533600000000547 55639.224 0.9736842105263158 757.47\n",
            "2022-05-06 IWM URTY\n",
            "42.240600000000484 55151.042400000006 0.9358974358974359 724.1099999999999\n",
            "2022-05-09 IWM URTY\n",
            "33.88260000000014 64929.45659999998 0.9166666666666666 691.1700000000001\n",
            "2022-05-10 IWM URTY\n",
            "32.01360000000045 53806.45680000001 0.8271604938271605 690.0400000000001\n",
            "2022-05-11 IWM URTY\n",
            "39.300600000000145 52034.561100000006 0.9230769230769231 676.2600000000001\n",
            "2022-05-12 IWM URTY\n",
            "34.43019999999973 49696.20809999999 0.972972972972973 690.38\n",
            "2022-05-13 IWM URTY\n",
            "24.42840000000075 57033.14399999999 0.9294117647058824 676.47\n",
            "2022-05-16 IWM URTY\n",
            "30.12659999999937 47178.480599999995 0.9285714285714286 682.65\n",
            "2022-05-17 IWM URTY\n",
            "24.10439999999886 53007.143399999986 0.935064935064935 693.5400000000001\n",
            "2022-05-18 IWM URTY\n",
            "22.660200000001055 45910.7847 0.9402985074626866 694.35\n",
            "2022-05-19 IWM URTY\n",
            "34.23179999999974 49201.701899999985 0.918918918918919 676.47\n",
            "2022-05-20 IWM URTY\n",
            "13.120599999999342 44556.13630000001 0.835820895522388 694.55\n",
            "2022-05-23 IWM URTY\n",
            "19.70009999999934 47647.81590000001 0.8028169014084507 677.9999999999999\n",
            "2022-05-24 IWM URTY\n",
            "30.270799999999895 54205.926999999996 0.95 695.164\n",
            "2022-05-25 IWM URTY\n",
            "19.98300000000006 44880.9267 0.9402985074626866 677.79\n",
            "2022-05-26 IWM URTY\n",
            "16.333800000000622 56326.993500000004 0.9382716049382716 699.99\n",
            "2022-05-27 IWM URTY\n",
            "17.903100000001416 49816.73219999999 0.9571428571428572 718.8750000000001\n",
            "2022-05-31 IWM URTY\n",
            "20.843999999999653 63684.99720000001 0.9213483146067416 723.6899999999999\n"
          ]
        }
      ]
    },
    {
      "cell_type": "code",
      "source": [
        "100*sum(netprophets)/sum(maxcapitals)"
      ],
      "metadata": {
        "colab": {
          "base_uri": "https://localhost:8080/"
        },
        "id": "WhQ10O2IbDia",
        "outputId": "dd0fbb35-9eda-4e6e-f702-abd6ccac288b"
      },
      "execution_count": null,
      "outputs": [
        {
          "output_type": "execute_result",
          "data": {
            "text/plain": [
              "3.884310982411673"
            ]
          },
          "metadata": {},
          "execution_count": 51
        }
      ]
    },
    {
      "cell_type": "code",
      "source": [
        "netprophets = []\n",
        "netexposures = []\n",
        "winrates = []\n",
        "maxcapitals = []\n",
        "blaghs = []\n",
        "tick = \"DIA\"\n",
        "levtick = \"UDOW\"\n",
        "for i in range(1, 32):\n",
        "  date = \"2022-05-\"+str(i)\n",
        "  if(i < 10):\n",
        "    date = \"2022-05-0\"+str(i)\n",
        "  #print(i, date, tick, levtick)\n",
        "  \n",
        "  if(blaghify(date, tick, levtick) is not -1):\n",
        "\n",
        "    print(date, tick, levtick)\n",
        "    netprophet, netexposure, winr, maxcapital = run_strategy(date, tick, levtick)\n",
        "    print(netprophet, netexposure, winr, maxcapital)\n",
        "\n",
        "    if(sum([netprophet, netexposure, winr, maxcapital]) != -4):\n",
        "\n",
        "      netprophets.append(netprophet)\n",
        "      netexposures.append(netexposure)\n",
        "      winrates.append(winr)\n",
        "      maxcapitals.append(maxcapital)"
      ],
      "metadata": {
        "colab": {
          "base_uri": "https://localhost:8080/"
        },
        "id": "GHnlTLq6bIbU",
        "outputId": "9934c753-7089-4db2-bf51-3866b3571919"
      },
      "execution_count": null,
      "outputs": [
        {
          "output_type": "stream",
          "name": "stdout",
          "text": [
            "2022-05-02 DIA UDOW\n",
            "20.041800000000308 111627.94179999997 0.9069767441860465 1311.0296\n",
            "2022-05-03 DIA UDOW\n",
            "11.538100000001009 94119.37320000002 0.9444444444444444 1317.6100000000001\n",
            "2022-05-04 DIA UDOW\n",
            "12.737799999999538 104590.56209999998 0.9625 1314.9499999999998\n",
            "2022-05-05 DIA UDOW\n",
            "12.477200000000721 110970.44660000001 0.9761904761904762 1352.46\n",
            "2022-05-06 DIA UDOW\n",
            "15.881600000000503 96257.62720000002 0.8933333333333333 1298.57\n",
            "2022-05-09 DIA UDOW\n",
            "19.16259999999977 108857.32750000001 0.872093023255814 1275.43\n",
            "2022-05-10 DIA UDOW\n",
            "13.292599999999538 117296.56129999996 0.8064516129032258 1282.3600000000001\n",
            "2022-05-11 DIA UDOW\n",
            "35.204199999999105 125915.70289999997 0.86 1273.71\n",
            "2022-05-12 DIA UDOW\n",
            "19.234000000001174 118685.20560000004 0.8144329896907216 1235.7200000000003\n",
            "2022-05-13 DIA UDOW\n",
            "16.312399999998206 112338.67319999995 0.8888888888888888 1254.96\n",
            "2022-05-16 DIA UDOW\n",
            "12.300800000001118 99813.58960000008 0.8375 1256.3600000000001\n",
            "2022-05-17 DIA UDOW\n",
            "18.957200000000512 94001.69660000001 0.9459459459459459 1280.2\n",
            "2022-05-18 DIA UDOW\n",
            "12.90459999999905 98686.10870000001 0.9113924050632911 1273.29\n",
            "2022-05-19 DIA UDOW\n",
            "23.822900000002846 109078.13039999997 0.9431818181818182 1252.98\n",
            "2022-05-20 DIA UDOW\n",
            "12.804399999999532 98834.6138 0.8765432098765432 1248.21\n",
            "2022-05-23 DIA UDOW\n",
            "18.52160000000231 116125.42499999996 0.9052631578947369 1236.92\n",
            "2022-05-24 DIA UDOW\n",
            "16.306399999999485 84980.21779999995 0.9 1225.1995\n",
            "2022-05-25 DIA UDOW\n",
            "19.55239999999924 105248.56030000003 0.8941176470588236 1247.81\n",
            "2022-05-26 DIA UDOW\n",
            "13.130399999997849 125600.5542 0.9191919191919192 1275.3049999999998\n",
            "2022-05-27 DIA UDOW\n",
            "12.749199999998837 112040.6556 0.9540229885057471 1296.12\n",
            "2022-05-31 DIA UDOW\n",
            "21.63540000000205 126791.80889999996 0.9591836734693877 1303.7605\n"
          ]
        }
      ]
    },
    {
      "cell_type": "code",
      "source": [
        "100*sum(netprophets)/sum(maxcapitals)"
      ],
      "metadata": {
        "colab": {
          "base_uri": "https://localhost:8080/"
        },
        "id": "5H4Gs9GjbVCH",
        "outputId": "e64067e9-fb44-4c52-889d-ff581edfac57"
      },
      "execution_count": null,
      "outputs": [
        {
          "output_type": "execute_result",
          "data": {
            "text/plain": [
              "1.3372923847788212"
            ]
          },
          "metadata": {},
          "execution_count": 53
        }
      ]
    },
    {
      "cell_type": "code",
      "source": [
        "d1 = api.get_quotes(\"SPY\", \"2022-05-03\", \"2022-05-03\", limit=10000).df"
      ],
      "metadata": {
        "id": "CcUB2ho6bWa8"
      },
      "execution_count": null,
      "outputs": []
    },
    {
      "cell_type": "code",
      "source": [
        "d1.head()"
      ],
      "metadata": {
        "colab": {
          "base_uri": "https://localhost:8080/",
          "height": 237
        },
        "id": "ki0hpYjdwWLL",
        "outputId": "c7747aea-0bb0-410b-8fe5-04ef14cb8f99"
      },
      "execution_count": null,
      "outputs": [
        {
          "output_type": "execute_result",
          "data": {
            "text/plain": [
              "                                    ask_exchange  ask_price  ask_size  \\\n",
              "timestamp                                                               \n",
              "2022-05-03 08:00:00.000285+00:00               P      415.8         7   \n",
              "2022-05-03 08:00:00.012588115+00:00            T        0.0         0   \n",
              "2022-05-03 08:00:00.012929364+00:00            T        0.0         0   \n",
              "2022-05-03 08:00:00.028141056+00:00            P      600.0         1   \n",
              "2022-05-03 08:00:00.028179200+00:00            P      415.8         1   \n",
              "\n",
              "                                    bid_exchange  bid_price  bid_size  \\\n",
              "timestamp                                                               \n",
              "2022-05-03 08:00:00.000285+00:00               K     415.65         5   \n",
              "2022-05-03 08:00:00.012588115+00:00            T     409.07         3   \n",
              "2022-05-03 08:00:00.012929364+00:00            T     409.07         4   \n",
              "2022-05-03 08:00:00.028141056+00:00            T     409.07         4   \n",
              "2022-05-03 08:00:00.028179200+00:00            T     409.07         4   \n",
              "\n",
              "                                    conditions tape  \n",
              "timestamp                                            \n",
              "2022-05-03 08:00:00.000285+00:00           [R]    B  \n",
              "2022-05-03 08:00:00.012588115+00:00        [R]    B  \n",
              "2022-05-03 08:00:00.012929364+00:00        [R]    B  \n",
              "2022-05-03 08:00:00.028141056+00:00        [R]    B  \n",
              "2022-05-03 08:00:00.028179200+00:00        [R]    B  "
            ],
            "text/html": [
              "\n",
              "  <div id=\"df-66667370-3b14-4813-948b-f7f552b30eb9\">\n",
              "    <div class=\"colab-df-container\">\n",
              "      <div>\n",
              "<style scoped>\n",
              "    .dataframe tbody tr th:only-of-type {\n",
              "        vertical-align: middle;\n",
              "    }\n",
              "\n",
              "    .dataframe tbody tr th {\n",
              "        vertical-align: top;\n",
              "    }\n",
              "\n",
              "    .dataframe thead th {\n",
              "        text-align: right;\n",
              "    }\n",
              "</style>\n",
              "<table border=\"1\" class=\"dataframe\">\n",
              "  <thead>\n",
              "    <tr style=\"text-align: right;\">\n",
              "      <th></th>\n",
              "      <th>ask_exchange</th>\n",
              "      <th>ask_price</th>\n",
              "      <th>ask_size</th>\n",
              "      <th>bid_exchange</th>\n",
              "      <th>bid_price</th>\n",
              "      <th>bid_size</th>\n",
              "      <th>conditions</th>\n",
              "      <th>tape</th>\n",
              "    </tr>\n",
              "    <tr>\n",
              "      <th>timestamp</th>\n",
              "      <th></th>\n",
              "      <th></th>\n",
              "      <th></th>\n",
              "      <th></th>\n",
              "      <th></th>\n",
              "      <th></th>\n",
              "      <th></th>\n",
              "      <th></th>\n",
              "    </tr>\n",
              "  </thead>\n",
              "  <tbody>\n",
              "    <tr>\n",
              "      <th>2022-05-03 08:00:00.000285+00:00</th>\n",
              "      <td>P</td>\n",
              "      <td>415.8</td>\n",
              "      <td>7</td>\n",
              "      <td>K</td>\n",
              "      <td>415.65</td>\n",
              "      <td>5</td>\n",
              "      <td>[R]</td>\n",
              "      <td>B</td>\n",
              "    </tr>\n",
              "    <tr>\n",
              "      <th>2022-05-03 08:00:00.012588115+00:00</th>\n",
              "      <td>T</td>\n",
              "      <td>0.0</td>\n",
              "      <td>0</td>\n",
              "      <td>T</td>\n",
              "      <td>409.07</td>\n",
              "      <td>3</td>\n",
              "      <td>[R]</td>\n",
              "      <td>B</td>\n",
              "    </tr>\n",
              "    <tr>\n",
              "      <th>2022-05-03 08:00:00.012929364+00:00</th>\n",
              "      <td>T</td>\n",
              "      <td>0.0</td>\n",
              "      <td>0</td>\n",
              "      <td>T</td>\n",
              "      <td>409.07</td>\n",
              "      <td>4</td>\n",
              "      <td>[R]</td>\n",
              "      <td>B</td>\n",
              "    </tr>\n",
              "    <tr>\n",
              "      <th>2022-05-03 08:00:00.028141056+00:00</th>\n",
              "      <td>P</td>\n",
              "      <td>600.0</td>\n",
              "      <td>1</td>\n",
              "      <td>T</td>\n",
              "      <td>409.07</td>\n",
              "      <td>4</td>\n",
              "      <td>[R]</td>\n",
              "      <td>B</td>\n",
              "    </tr>\n",
              "    <tr>\n",
              "      <th>2022-05-03 08:00:00.028179200+00:00</th>\n",
              "      <td>P</td>\n",
              "      <td>415.8</td>\n",
              "      <td>1</td>\n",
              "      <td>T</td>\n",
              "      <td>409.07</td>\n",
              "      <td>4</td>\n",
              "      <td>[R]</td>\n",
              "      <td>B</td>\n",
              "    </tr>\n",
              "  </tbody>\n",
              "</table>\n",
              "</div>\n",
              "      <button class=\"colab-df-convert\" onclick=\"convertToInteractive('df-66667370-3b14-4813-948b-f7f552b30eb9')\"\n",
              "              title=\"Convert this dataframe to an interactive table.\"\n",
              "              style=\"display:none;\">\n",
              "        \n",
              "  <svg xmlns=\"http://www.w3.org/2000/svg\" height=\"24px\"viewBox=\"0 0 24 24\"\n",
              "       width=\"24px\">\n",
              "    <path d=\"M0 0h24v24H0V0z\" fill=\"none\"/>\n",
              "    <path d=\"M18.56 5.44l.94 2.06.94-2.06 2.06-.94-2.06-.94-.94-2.06-.94 2.06-2.06.94zm-11 1L8.5 8.5l.94-2.06 2.06-.94-2.06-.94L8.5 2.5l-.94 2.06-2.06.94zm10 10l.94 2.06.94-2.06 2.06-.94-2.06-.94-.94-2.06-.94 2.06-2.06.94z\"/><path d=\"M17.41 7.96l-1.37-1.37c-.4-.4-.92-.59-1.43-.59-.52 0-1.04.2-1.43.59L10.3 9.45l-7.72 7.72c-.78.78-.78 2.05 0 2.83L4 21.41c.39.39.9.59 1.41.59.51 0 1.02-.2 1.41-.59l7.78-7.78 2.81-2.81c.8-.78.8-2.07 0-2.86zM5.41 20L4 18.59l7.72-7.72 1.47 1.35L5.41 20z\"/>\n",
              "  </svg>\n",
              "      </button>\n",
              "      \n",
              "  <style>\n",
              "    .colab-df-container {\n",
              "      display:flex;\n",
              "      flex-wrap:wrap;\n",
              "      gap: 12px;\n",
              "    }\n",
              "\n",
              "    .colab-df-convert {\n",
              "      background-color: #E8F0FE;\n",
              "      border: none;\n",
              "      border-radius: 50%;\n",
              "      cursor: pointer;\n",
              "      display: none;\n",
              "      fill: #1967D2;\n",
              "      height: 32px;\n",
              "      padding: 0 0 0 0;\n",
              "      width: 32px;\n",
              "    }\n",
              "\n",
              "    .colab-df-convert:hover {\n",
              "      background-color: #E2EBFA;\n",
              "      box-shadow: 0px 1px 2px rgba(60, 64, 67, 0.3), 0px 1px 3px 1px rgba(60, 64, 67, 0.15);\n",
              "      fill: #174EA6;\n",
              "    }\n",
              "\n",
              "    [theme=dark] .colab-df-convert {\n",
              "      background-color: #3B4455;\n",
              "      fill: #D2E3FC;\n",
              "    }\n",
              "\n",
              "    [theme=dark] .colab-df-convert:hover {\n",
              "      background-color: #434B5C;\n",
              "      box-shadow: 0px 1px 3px 1px rgba(0, 0, 0, 0.15);\n",
              "      filter: drop-shadow(0px 1px 2px rgba(0, 0, 0, 0.3));\n",
              "      fill: #FFFFFF;\n",
              "    }\n",
              "  </style>\n",
              "\n",
              "      <script>\n",
              "        const buttonEl =\n",
              "          document.querySelector('#df-66667370-3b14-4813-948b-f7f552b30eb9 button.colab-df-convert');\n",
              "        buttonEl.style.display =\n",
              "          google.colab.kernel.accessAllowed ? 'block' : 'none';\n",
              "\n",
              "        async function convertToInteractive(key) {\n",
              "          const element = document.querySelector('#df-66667370-3b14-4813-948b-f7f552b30eb9');\n",
              "          const dataTable =\n",
              "            await google.colab.kernel.invokeFunction('convertToInteractive',\n",
              "                                                     [key], {});\n",
              "          if (!dataTable) return;\n",
              "\n",
              "          const docLinkHtml = 'Like what you see? Visit the ' +\n",
              "            '<a target=\"_blank\" href=https://colab.research.google.com/notebooks/data_table.ipynb>data table notebook</a>'\n",
              "            + ' to learn more about interactive tables.';\n",
              "          element.innerHTML = '';\n",
              "          dataTable['output_type'] = 'display_data';\n",
              "          await google.colab.output.renderOutput(dataTable, element);\n",
              "          const docLink = document.createElement('div');\n",
              "          docLink.innerHTML = docLinkHtml;\n",
              "          element.appendChild(docLink);\n",
              "        }\n",
              "      </script>\n",
              "    </div>\n",
              "  </div>\n",
              "  "
            ]
          },
          "metadata": {},
          "execution_count": 78
        }
      ]
    },
    {
      "cell_type": "code",
      "source": [
        "d2 = api.get_quotes(\"UPRO\", \"2022-05-03\", \"2022-05-03\", limit=10000).df"
      ],
      "metadata": {
        "id": "f3-CaxKZwWNl"
      },
      "execution_count": null,
      "outputs": []
    },
    {
      "cell_type": "code",
      "source": [
        "d2.head()"
      ],
      "metadata": {
        "colab": {
          "base_uri": "https://localhost:8080/",
          "height": 237
        },
        "id": "asA-iKK0wWP9",
        "outputId": "b6cbc834-80a4-4de2-981c-51df1a949812"
      },
      "execution_count": null,
      "outputs": [
        {
          "output_type": "execute_result",
          "data": {
            "text/plain": [
              "                                    ask_exchange  ask_price  ask_size  \\\n",
              "timestamp                                                               \n",
              "2022-05-03 08:00:00.005471744+00:00            P      54.09         2   \n",
              "2022-05-03 08:00:00.005472256+00:00            P      54.09         2   \n",
              "2022-05-03 08:00:00.005533952+00:00            P      54.09         2   \n",
              "2022-05-03 08:00:00.005538048+00:00            P      51.90         1   \n",
              "2022-05-03 08:00:00.005538560+00:00            P      51.90         1   \n",
              "\n",
              "                                    bid_exchange  bid_price  bid_size  \\\n",
              "timestamp                                                               \n",
              "2022-05-03 08:00:00.005471744+00:00            P       0.00         0   \n",
              "2022-05-03 08:00:00.005472256+00:00            P      32.89         2   \n",
              "2022-05-03 08:00:00.005533952+00:00            P      45.03         4   \n",
              "2022-05-03 08:00:00.005538048+00:00            P      45.03         4   \n",
              "2022-05-03 08:00:00.005538560+00:00            P      47.96         2   \n",
              "\n",
              "                                    conditions tape  \n",
              "timestamp                                            \n",
              "2022-05-03 08:00:00.005471744+00:00        [R]    B  \n",
              "2022-05-03 08:00:00.005472256+00:00        [R]    B  \n",
              "2022-05-03 08:00:00.005533952+00:00        [R]    B  \n",
              "2022-05-03 08:00:00.005538048+00:00        [R]    B  \n",
              "2022-05-03 08:00:00.005538560+00:00        [R]    B  "
            ],
            "text/html": [
              "\n",
              "  <div id=\"df-f2c4940f-1501-40af-84dd-4b778f9e8d0f\">\n",
              "    <div class=\"colab-df-container\">\n",
              "      <div>\n",
              "<style scoped>\n",
              "    .dataframe tbody tr th:only-of-type {\n",
              "        vertical-align: middle;\n",
              "    }\n",
              "\n",
              "    .dataframe tbody tr th {\n",
              "        vertical-align: top;\n",
              "    }\n",
              "\n",
              "    .dataframe thead th {\n",
              "        text-align: right;\n",
              "    }\n",
              "</style>\n",
              "<table border=\"1\" class=\"dataframe\">\n",
              "  <thead>\n",
              "    <tr style=\"text-align: right;\">\n",
              "      <th></th>\n",
              "      <th>ask_exchange</th>\n",
              "      <th>ask_price</th>\n",
              "      <th>ask_size</th>\n",
              "      <th>bid_exchange</th>\n",
              "      <th>bid_price</th>\n",
              "      <th>bid_size</th>\n",
              "      <th>conditions</th>\n",
              "      <th>tape</th>\n",
              "    </tr>\n",
              "    <tr>\n",
              "      <th>timestamp</th>\n",
              "      <th></th>\n",
              "      <th></th>\n",
              "      <th></th>\n",
              "      <th></th>\n",
              "      <th></th>\n",
              "      <th></th>\n",
              "      <th></th>\n",
              "      <th></th>\n",
              "    </tr>\n",
              "  </thead>\n",
              "  <tbody>\n",
              "    <tr>\n",
              "      <th>2022-05-03 08:00:00.005471744+00:00</th>\n",
              "      <td>P</td>\n",
              "      <td>54.09</td>\n",
              "      <td>2</td>\n",
              "      <td>P</td>\n",
              "      <td>0.00</td>\n",
              "      <td>0</td>\n",
              "      <td>[R]</td>\n",
              "      <td>B</td>\n",
              "    </tr>\n",
              "    <tr>\n",
              "      <th>2022-05-03 08:00:00.005472256+00:00</th>\n",
              "      <td>P</td>\n",
              "      <td>54.09</td>\n",
              "      <td>2</td>\n",
              "      <td>P</td>\n",
              "      <td>32.89</td>\n",
              "      <td>2</td>\n",
              "      <td>[R]</td>\n",
              "      <td>B</td>\n",
              "    </tr>\n",
              "    <tr>\n",
              "      <th>2022-05-03 08:00:00.005533952+00:00</th>\n",
              "      <td>P</td>\n",
              "      <td>54.09</td>\n",
              "      <td>2</td>\n",
              "      <td>P</td>\n",
              "      <td>45.03</td>\n",
              "      <td>4</td>\n",
              "      <td>[R]</td>\n",
              "      <td>B</td>\n",
              "    </tr>\n",
              "    <tr>\n",
              "      <th>2022-05-03 08:00:00.005538048+00:00</th>\n",
              "      <td>P</td>\n",
              "      <td>51.90</td>\n",
              "      <td>1</td>\n",
              "      <td>P</td>\n",
              "      <td>45.03</td>\n",
              "      <td>4</td>\n",
              "      <td>[R]</td>\n",
              "      <td>B</td>\n",
              "    </tr>\n",
              "    <tr>\n",
              "      <th>2022-05-03 08:00:00.005538560+00:00</th>\n",
              "      <td>P</td>\n",
              "      <td>51.90</td>\n",
              "      <td>1</td>\n",
              "      <td>P</td>\n",
              "      <td>47.96</td>\n",
              "      <td>2</td>\n",
              "      <td>[R]</td>\n",
              "      <td>B</td>\n",
              "    </tr>\n",
              "  </tbody>\n",
              "</table>\n",
              "</div>\n",
              "      <button class=\"colab-df-convert\" onclick=\"convertToInteractive('df-f2c4940f-1501-40af-84dd-4b778f9e8d0f')\"\n",
              "              title=\"Convert this dataframe to an interactive table.\"\n",
              "              style=\"display:none;\">\n",
              "        \n",
              "  <svg xmlns=\"http://www.w3.org/2000/svg\" height=\"24px\"viewBox=\"0 0 24 24\"\n",
              "       width=\"24px\">\n",
              "    <path d=\"M0 0h24v24H0V0z\" fill=\"none\"/>\n",
              "    <path d=\"M18.56 5.44l.94 2.06.94-2.06 2.06-.94-2.06-.94-.94-2.06-.94 2.06-2.06.94zm-11 1L8.5 8.5l.94-2.06 2.06-.94-2.06-.94L8.5 2.5l-.94 2.06-2.06.94zm10 10l.94 2.06.94-2.06 2.06-.94-2.06-.94-.94-2.06-.94 2.06-2.06.94z\"/><path d=\"M17.41 7.96l-1.37-1.37c-.4-.4-.92-.59-1.43-.59-.52 0-1.04.2-1.43.59L10.3 9.45l-7.72 7.72c-.78.78-.78 2.05 0 2.83L4 21.41c.39.39.9.59 1.41.59.51 0 1.02-.2 1.41-.59l7.78-7.78 2.81-2.81c.8-.78.8-2.07 0-2.86zM5.41 20L4 18.59l7.72-7.72 1.47 1.35L5.41 20z\"/>\n",
              "  </svg>\n",
              "      </button>\n",
              "      \n",
              "  <style>\n",
              "    .colab-df-container {\n",
              "      display:flex;\n",
              "      flex-wrap:wrap;\n",
              "      gap: 12px;\n",
              "    }\n",
              "\n",
              "    .colab-df-convert {\n",
              "      background-color: #E8F0FE;\n",
              "      border: none;\n",
              "      border-radius: 50%;\n",
              "      cursor: pointer;\n",
              "      display: none;\n",
              "      fill: #1967D2;\n",
              "      height: 32px;\n",
              "      padding: 0 0 0 0;\n",
              "      width: 32px;\n",
              "    }\n",
              "\n",
              "    .colab-df-convert:hover {\n",
              "      background-color: #E2EBFA;\n",
              "      box-shadow: 0px 1px 2px rgba(60, 64, 67, 0.3), 0px 1px 3px 1px rgba(60, 64, 67, 0.15);\n",
              "      fill: #174EA6;\n",
              "    }\n",
              "\n",
              "    [theme=dark] .colab-df-convert {\n",
              "      background-color: #3B4455;\n",
              "      fill: #D2E3FC;\n",
              "    }\n",
              "\n",
              "    [theme=dark] .colab-df-convert:hover {\n",
              "      background-color: #434B5C;\n",
              "      box-shadow: 0px 1px 3px 1px rgba(0, 0, 0, 0.15);\n",
              "      filter: drop-shadow(0px 1px 2px rgba(0, 0, 0, 0.3));\n",
              "      fill: #FFFFFF;\n",
              "    }\n",
              "  </style>\n",
              "\n",
              "      <script>\n",
              "        const buttonEl =\n",
              "          document.querySelector('#df-f2c4940f-1501-40af-84dd-4b778f9e8d0f button.colab-df-convert');\n",
              "        buttonEl.style.display =\n",
              "          google.colab.kernel.accessAllowed ? 'block' : 'none';\n",
              "\n",
              "        async function convertToInteractive(key) {\n",
              "          const element = document.querySelector('#df-f2c4940f-1501-40af-84dd-4b778f9e8d0f');\n",
              "          const dataTable =\n",
              "            await google.colab.kernel.invokeFunction('convertToInteractive',\n",
              "                                                     [key], {});\n",
              "          if (!dataTable) return;\n",
              "\n",
              "          const docLinkHtml = 'Like what you see? Visit the ' +\n",
              "            '<a target=\"_blank\" href=https://colab.research.google.com/notebooks/data_table.ipynb>data table notebook</a>'\n",
              "            + ' to learn more about interactive tables.';\n",
              "          element.innerHTML = '';\n",
              "          dataTable['output_type'] = 'display_data';\n",
              "          await google.colab.output.renderOutput(dataTable, element);\n",
              "          const docLink = document.createElement('div');\n",
              "          docLink.innerHTML = docLinkHtml;\n",
              "          element.appendChild(docLink);\n",
              "        }\n",
              "      </script>\n",
              "    </div>\n",
              "  </div>\n",
              "  "
            ]
          },
          "metadata": {},
          "execution_count": 80
        }
      ]
    },
    {
      "cell_type": "code",
      "source": [
        ""
      ],
      "metadata": {
        "id": "5cgho-xEwWSe"
      },
      "execution_count": null,
      "outputs": []
    },
    {
      "cell_type": "code",
      "source": [
        ""
      ],
      "metadata": {
        "id": "JLI4UrH3wWU4"
      },
      "execution_count": null,
      "outputs": []
    },
    {
      "cell_type": "code",
      "source": [
        ""
      ],
      "metadata": {
        "id": "xkcoUgdtwWXp"
      },
      "execution_count": null,
      "outputs": []
    }
  ]
}